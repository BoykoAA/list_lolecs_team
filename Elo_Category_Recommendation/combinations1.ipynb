{
 "cells": [
  {
   "cell_type": "code",
   "execution_count": 1,
   "metadata": {},
   "outputs": [
    {
     "name": "stderr",
     "output_type": "stream",
     "text": [
      "/Users/aleksandrbojko/anaconda3/lib/python3.6/site-packages/lightgbm/__init__.py:46: UserWarning: Starting from version 2.2.1, the library file in distribution wheels for macOS is built by the Apple Clang (Xcode_8.3.1) compiler.\n",
      "This means that in case of installing LightGBM from PyPI via the ``pip install lightgbm`` command, you don't need to install the gcc compiler anymore.\n",
      "Instead of that, you need to install the OpenMP library, which is required for running LightGBM on the system with the Apple Clang compiler.\n",
      "You can install the OpenMP library by the following command: ``brew install libomp``.\n",
      "  \"You can install the OpenMP library by the following command: ``brew install libomp``.\", UserWarning)\n"
     ]
    }
   ],
   "source": [
    "import numpy as np\n",
    "import pandas as pd\n",
    "import time\n",
    "import lightgbm as lgb\n",
    "from sklearn.model_selection import StratifiedKFold, KFold\n",
    "from sklearn.metrics import mean_squared_error\n",
    "from sklearn.metrics import log_loss"
   ]
  },
  {
   "cell_type": "code",
   "execution_count": 2,
   "metadata": {},
   "outputs": [
    {
     "name": "stdout",
     "output_type": "stream",
     "text": [
      "CPU times: user 7.1 s, sys: 607 ms, total: 7.7 s\n",
      "Wall time: 7.79 s\n"
     ]
    }
   ],
   "source": [
    "%%time\n",
    "df_train = pd.read_csv('data/train_clean.csv')\n",
    "df_test = pd.read_csv('data/test_clean.csv')"
   ]
  },
  {
   "cell_type": "code",
   "execution_count": 3,
   "metadata": {},
   "outputs": [],
   "source": [
    "df_train = df_train[df_train['outliers'] == 0]\n",
    "target = df_train['target']\n",
    "del df_train['target']\n",
    "features = [c for c in df_train.columns if c not in ['card_id', 'first_active_month','outliers']]\n",
    "categorical_feats = [c for c in features if 'feature_' in c]"
   ]
  },
  {
   "cell_type": "code",
   "execution_count": 4,
   "metadata": {},
   "outputs": [],
   "source": [
    "param = {'objective':'regression',\n",
    "         'num_leaves': 31,\n",
    "         'min_data_in_leaf': 25,\n",
    "         'max_depth': 7,\n",
    "         'learning_rate': 0.01,\n",
    "         'lambda_l1':0.13,\n",
    "         \"boosting\": \"gbdt\",\n",
    "         \"feature_fraction\":0.85,\n",
    "         'bagging_freq':8,\n",
    "         \"bagging_fraction\": 0.9 ,\n",
    "         \"metric\": 'rmse',\n",
    "         \"verbosity\": -1,\n",
    "         \"random_state\": 2333}"
   ]
  },
  {
   "cell_type": "code",
   "execution_count": 5,
   "metadata": {},
   "outputs": [
    {
     "name": "stdout",
     "output_type": "stream",
     "text": [
      "fold 0\n",
      "Training until validation scores don't improve for 200 rounds.\n",
      "[100]\ttraining's rmse: 1.60687\tvalid_1's rmse: 1.61781\n",
      "[200]\ttraining's rmse: 1.57609\tvalid_1's rmse: 1.59108\n",
      "[300]\ttraining's rmse: 1.56139\tvalid_1's rmse: 1.58041\n",
      "[400]\ttraining's rmse: 1.55194\tvalid_1's rmse: 1.57473\n",
      "[500]\ttraining's rmse: 1.5448\tvalid_1's rmse: 1.57109\n",
      "[600]\ttraining's rmse: 1.53907\tvalid_1's rmse: 1.56879\n",
      "[700]\ttraining's rmse: 1.53402\tvalid_1's rmse: 1.56736\n",
      "[800]\ttraining's rmse: 1.52968\tvalid_1's rmse: 1.56635\n",
      "[900]\ttraining's rmse: 1.52575\tvalid_1's rmse: 1.56572\n",
      "[1000]\ttraining's rmse: 1.52214\tvalid_1's rmse: 1.56506\n",
      "[1100]\ttraining's rmse: 1.51854\tvalid_1's rmse: 1.56466\n",
      "[1200]\ttraining's rmse: 1.51517\tvalid_1's rmse: 1.56431\n",
      "[1300]\ttraining's rmse: 1.51177\tvalid_1's rmse: 1.56397\n",
      "[1400]\ttraining's rmse: 1.50867\tvalid_1's rmse: 1.56369\n",
      "[1500]\ttraining's rmse: 1.50515\tvalid_1's rmse: 1.56342\n",
      "[1600]\ttraining's rmse: 1.50207\tvalid_1's rmse: 1.56345\n",
      "[1700]\ttraining's rmse: 1.49904\tvalid_1's rmse: 1.56327\n",
      "[1800]\ttraining's rmse: 1.49621\tvalid_1's rmse: 1.56321\n",
      "[1900]\ttraining's rmse: 1.4932\tvalid_1's rmse: 1.5631\n",
      "[2000]\ttraining's rmse: 1.49014\tvalid_1's rmse: 1.56304\n",
      "[2100]\ttraining's rmse: 1.48729\tvalid_1's rmse: 1.56294\n",
      "[2200]\ttraining's rmse: 1.48439\tvalid_1's rmse: 1.56287\n",
      "[2300]\ttraining's rmse: 1.48147\tvalid_1's rmse: 1.56274\n",
      "[2400]\ttraining's rmse: 1.47874\tvalid_1's rmse: 1.56278\n",
      "[2500]\ttraining's rmse: 1.47579\tvalid_1's rmse: 1.56284\n",
      "Early stopping, best iteration is:\n",
      "[2331]\ttraining's rmse: 1.48068\tvalid_1's rmse: 1.56271\n",
      "fold 1\n",
      "Training until validation scores don't improve for 200 rounds.\n",
      "[100]\ttraining's rmse: 1.61219\tvalid_1's rmse: 1.5957\n",
      "[200]\ttraining's rmse: 1.58138\tvalid_1's rmse: 1.56935\n",
      "[300]\ttraining's rmse: 1.56663\tvalid_1's rmse: 1.55874\n",
      "[400]\ttraining's rmse: 1.55702\tvalid_1's rmse: 1.55312\n",
      "[500]\ttraining's rmse: 1.54987\tvalid_1's rmse: 1.54983\n",
      "[600]\ttraining's rmse: 1.54424\tvalid_1's rmse: 1.54804\n",
      "[700]\ttraining's rmse: 1.53934\tvalid_1's rmse: 1.54686\n",
      "[800]\ttraining's rmse: 1.53496\tvalid_1's rmse: 1.546\n",
      "[900]\ttraining's rmse: 1.53098\tvalid_1's rmse: 1.54547\n",
      "[1000]\ttraining's rmse: 1.52717\tvalid_1's rmse: 1.54499\n",
      "[1100]\ttraining's rmse: 1.52346\tvalid_1's rmse: 1.54465\n",
      "[1200]\ttraining's rmse: 1.51999\tvalid_1's rmse: 1.54446\n",
      "[1300]\ttraining's rmse: 1.51648\tvalid_1's rmse: 1.54437\n",
      "[1400]\ttraining's rmse: 1.51316\tvalid_1's rmse: 1.54423\n",
      "[1500]\ttraining's rmse: 1.51007\tvalid_1's rmse: 1.54417\n",
      "[1600]\ttraining's rmse: 1.50693\tvalid_1's rmse: 1.54399\n",
      "[1700]\ttraining's rmse: 1.5039\tvalid_1's rmse: 1.54383\n",
      "[1800]\ttraining's rmse: 1.50091\tvalid_1's rmse: 1.54379\n",
      "[1900]\ttraining's rmse: 1.49783\tvalid_1's rmse: 1.54376\n",
      "[2000]\ttraining's rmse: 1.49494\tvalid_1's rmse: 1.54378\n",
      "Early stopping, best iteration is:\n",
      "[1851]\ttraining's rmse: 1.49939\tvalid_1's rmse: 1.54373\n",
      "fold 2\n",
      "Training until validation scores don't improve for 200 rounds.\n",
      "[100]\ttraining's rmse: 1.60501\tvalid_1's rmse: 1.62643\n",
      "[200]\ttraining's rmse: 1.57456\tvalid_1's rmse: 1.59776\n",
      "[300]\ttraining's rmse: 1.56009\tvalid_1's rmse: 1.58648\n",
      "[400]\ttraining's rmse: 1.55077\tvalid_1's rmse: 1.58058\n",
      "[500]\ttraining's rmse: 1.54366\tvalid_1's rmse: 1.57675\n",
      "[600]\ttraining's rmse: 1.53806\tvalid_1's rmse: 1.57453\n",
      "[700]\ttraining's rmse: 1.5332\tvalid_1's rmse: 1.57317\n",
      "[800]\ttraining's rmse: 1.52886\tvalid_1's rmse: 1.57216\n",
      "[900]\ttraining's rmse: 1.52479\tvalid_1's rmse: 1.57127\n",
      "[1000]\ttraining's rmse: 1.52093\tvalid_1's rmse: 1.57079\n",
      "[1100]\ttraining's rmse: 1.51737\tvalid_1's rmse: 1.57042\n",
      "[1200]\ttraining's rmse: 1.514\tvalid_1's rmse: 1.57006\n",
      "[1300]\ttraining's rmse: 1.51078\tvalid_1's rmse: 1.56993\n",
      "[1400]\ttraining's rmse: 1.50753\tvalid_1's rmse: 1.56982\n",
      "[1500]\ttraining's rmse: 1.50443\tvalid_1's rmse: 1.56959\n",
      "[1600]\ttraining's rmse: 1.50145\tvalid_1's rmse: 1.56943\n",
      "[1700]\ttraining's rmse: 1.49834\tvalid_1's rmse: 1.56938\n",
      "[1800]\ttraining's rmse: 1.49525\tvalid_1's rmse: 1.56932\n",
      "[1900]\ttraining's rmse: 1.49232\tvalid_1's rmse: 1.5693\n",
      "[2000]\ttraining's rmse: 1.48937\tvalid_1's rmse: 1.56919\n",
      "[2100]\ttraining's rmse: 1.48644\tvalid_1's rmse: 1.56933\n",
      "Early stopping, best iteration is:\n",
      "[1982]\ttraining's rmse: 1.48985\tvalid_1's rmse: 1.56916\n",
      "fold 3\n",
      "Training until validation scores don't improve for 200 rounds.\n",
      "[100]\ttraining's rmse: 1.61016\tvalid_1's rmse: 1.6021\n",
      "[200]\ttraining's rmse: 1.57893\tvalid_1's rmse: 1.57717\n",
      "[300]\ttraining's rmse: 1.56415\tvalid_1's rmse: 1.56777\n",
      "[400]\ttraining's rmse: 1.55451\tvalid_1's rmse: 1.56245\n",
      "[500]\ttraining's rmse: 1.54751\tvalid_1's rmse: 1.55943\n",
      "[600]\ttraining's rmse: 1.54161\tvalid_1's rmse: 1.55738\n",
      "[700]\ttraining's rmse: 1.53664\tvalid_1's rmse: 1.55617\n",
      "[800]\ttraining's rmse: 1.53232\tvalid_1's rmse: 1.55534\n",
      "[900]\ttraining's rmse: 1.52823\tvalid_1's rmse: 1.55471\n",
      "[1000]\ttraining's rmse: 1.52436\tvalid_1's rmse: 1.55428\n",
      "[1100]\ttraining's rmse: 1.52083\tvalid_1's rmse: 1.55404\n",
      "[1200]\ttraining's rmse: 1.51741\tvalid_1's rmse: 1.55378\n",
      "[1300]\ttraining's rmse: 1.51407\tvalid_1's rmse: 1.55361\n",
      "[1400]\ttraining's rmse: 1.51078\tvalid_1's rmse: 1.55349\n",
      "[1500]\ttraining's rmse: 1.50756\tvalid_1's rmse: 1.55328\n",
      "[1600]\ttraining's rmse: 1.50453\tvalid_1's rmse: 1.55323\n",
      "[1700]\ttraining's rmse: 1.50152\tvalid_1's rmse: 1.55322\n",
      "[1800]\ttraining's rmse: 1.49873\tvalid_1's rmse: 1.55318\n",
      "[1900]\ttraining's rmse: 1.4958\tvalid_1's rmse: 1.55306\n",
      "[2000]\ttraining's rmse: 1.4928\tvalid_1's rmse: 1.55303\n",
      "[2100]\ttraining's rmse: 1.49\tvalid_1's rmse: 1.55303\n",
      "[2200]\ttraining's rmse: 1.48708\tvalid_1's rmse: 1.55305\n",
      "Early stopping, best iteration is:\n",
      "[2040]\ttraining's rmse: 1.49167\tvalid_1's rmse: 1.55296\n",
      "fold 4\n",
      "Training until validation scores don't improve for 200 rounds.\n",
      "[100]\ttraining's rmse: 1.60682\tvalid_1's rmse: 1.61898\n",
      "[200]\ttraining's rmse: 1.57636\tvalid_1's rmse: 1.59213\n",
      "[300]\ttraining's rmse: 1.56167\tvalid_1's rmse: 1.58102\n",
      "[400]\ttraining's rmse: 1.5521\tvalid_1's rmse: 1.57495\n",
      "[500]\ttraining's rmse: 1.54516\tvalid_1's rmse: 1.57138\n",
      "[600]\ttraining's rmse: 1.53956\tvalid_1's rmse: 1.56923\n",
      "[700]\ttraining's rmse: 1.53476\tvalid_1's rmse: 1.56771\n",
      "[800]\ttraining's rmse: 1.53049\tvalid_1's rmse: 1.56672\n",
      "[900]\ttraining's rmse: 1.52637\tvalid_1's rmse: 1.56596\n",
      "[1000]\ttraining's rmse: 1.52278\tvalid_1's rmse: 1.56529\n",
      "[1100]\ttraining's rmse: 1.51919\tvalid_1's rmse: 1.56494\n",
      "[1200]\ttraining's rmse: 1.51572\tvalid_1's rmse: 1.56456\n",
      "[1300]\ttraining's rmse: 1.51236\tvalid_1's rmse: 1.56423\n",
      "[1400]\ttraining's rmse: 1.50894\tvalid_1's rmse: 1.56414\n",
      "[1500]\ttraining's rmse: 1.50591\tvalid_1's rmse: 1.56419\n",
      "Early stopping, best iteration is:\n",
      "[1354]\ttraining's rmse: 1.51053\tvalid_1's rmse: 1.56408\n",
      "CV score: 1.55855 \n",
      "CPU times: user 33min 40s, sys: 27.8 s, total: 34min 8s\n",
      "Wall time: 4min 39s\n"
     ]
    }
   ],
   "source": [
    "%%time\n",
    "folds = StratifiedKFold(n_splits=5, shuffle=True, random_state=2333)\n",
    "oof = np.zeros(len(df_train))\n",
    "predictions = np.zeros(len(df_test))\n",
    "feature_importance_df = pd.DataFrame()\n",
    "\n",
    "for fold_, (trn_idx, val_idx) in enumerate(folds.split(df_train,df_train['outliers'].values)):\n",
    "    print(\"fold {}\".format(fold_))\n",
    "    trn_data = lgb.Dataset(df_train.iloc[trn_idx][features], label=target.iloc[trn_idx])#, categorical_feature=categorical_feats)\n",
    "    val_data = lgb.Dataset(df_train.iloc[val_idx][features], label=target.iloc[val_idx])#, categorical_feature=categorical_feats)\n",
    "\n",
    "    num_round = 10000\n",
    "    clf = lgb.train(param, trn_data, num_round, valid_sets = [trn_data, val_data], verbose_eval= 100, early_stopping_rounds = 200)\n",
    "    oof[val_idx] = clf.predict(df_train.iloc[val_idx][features], num_iteration=clf.best_iteration)\n",
    "    \n",
    "    fold_importance_df = pd.DataFrame()\n",
    "    fold_importance_df[\"Feature\"] = features\n",
    "    fold_importance_df[\"importance\"] = clf.feature_importance()\n",
    "    fold_importance_df[\"fold\"] = fold_ + 1\n",
    "    feature_importance_df = pd.concat([feature_importance_df, fold_importance_df], axis=0)\n",
    "    \n",
    "    predictions += clf.predict(df_test[features], num_iteration=clf.best_iteration) / folds.n_splits\n",
    "\n",
    "print(\"CV score: {:<8.5f}\".format(mean_squared_error(oof, target)**0.5))"
   ]
  },
  {
   "cell_type": "code",
   "execution_count": 6,
   "metadata": {},
   "outputs": [],
   "source": [
    "model_without_outliers = pd.DataFrame({\"card_id\":df_test[\"card_id\"].values})\n",
    "model_without_outliers[\"target\"] = predictions"
   ]
  },
  {
   "cell_type": "code",
   "execution_count": 7,
   "metadata": {},
   "outputs": [
    {
     "name": "stdout",
     "output_type": "stream",
     "text": [
      "CPU times: user 7.13 s, sys: 527 ms, total: 7.66 s\n",
      "Wall time: 7.73 s\n"
     ]
    }
   ],
   "source": [
    "%%time\n",
    "df_train = pd.read_csv('data/train_clean.csv')\n",
    "df_test = pd.read_csv('data/test_clean.csv')"
   ]
  },
  {
   "cell_type": "code",
   "execution_count": 8,
   "metadata": {},
   "outputs": [],
   "source": [
    "target = df_train['outliers']\n",
    "del df_train['outliers']\n",
    "del df_train['target']"
   ]
  },
  {
   "cell_type": "code",
   "execution_count": 9,
   "metadata": {},
   "outputs": [],
   "source": [
    "features = [c for c in df_train.columns if c not in ['card_id', 'first_active_month']]\n",
    "categorical_feats = [c for c in features if 'feature_' in c]"
   ]
  },
  {
   "cell_type": "code",
   "execution_count": 10,
   "metadata": {},
   "outputs": [],
   "source": [
    "param = {'num_leaves': 31,\n",
    "         'min_data_in_leaf': 30, \n",
    "         'objective':'binary',\n",
    "         'max_depth': 6,\n",
    "         'learning_rate': 0.01,\n",
    "         \"boosting\": \"rf\",\n",
    "         \"feature_fraction\": 0.9,\n",
    "         \"bagging_freq\": 1,\n",
    "         \"bagging_fraction\": 0.9 ,\n",
    "         \"bagging_seed\": 11,\n",
    "         \"metric\": 'binary_logloss',\n",
    "         \"lambda_l1\": 0.1,\n",
    "         \"verbosity\": -1,\n",
    "         \"random_state\": 2333}"
   ]
  },
  {
   "cell_type": "code",
   "execution_count": 11,
   "metadata": {},
   "outputs": [
    {
     "name": "stdout",
     "output_type": "stream",
     "text": [
      "fold n°0\n"
     ]
    },
    {
     "name": "stderr",
     "output_type": "stream",
     "text": [
      "/Users/aleksandrbojko/anaconda3/lib/python3.6/site-packages/lightgbm/basic.py:1186: UserWarning: Using categorical_feature in Dataset.\n",
      "  warnings.warn('Using categorical_feature in Dataset.')\n",
      "/Users/aleksandrbojko/anaconda3/lib/python3.6/site-packages/lightgbm/basic.py:752: UserWarning: categorical_feature in param dict is overridden.\n",
      "  warnings.warn('categorical_feature in param dict is overridden.')\n"
     ]
    },
    {
     "name": "stdout",
     "output_type": "stream",
     "text": [
      "Training until validation scores don't improve for 200 rounds.\n",
      "[100]\ttraining's binary_logloss: 0.0451366\tvalid_1's binary_logloss: 0.0477163\n",
      "[200]\ttraining's binary_logloss: 0.045025\tvalid_1's binary_logloss: 0.047604\n",
      "[300]\ttraining's binary_logloss: 0.0449807\tvalid_1's binary_logloss: 0.0475286\n",
      "[400]\ttraining's binary_logloss: 0.0449997\tvalid_1's binary_logloss: 0.0475235\n",
      "[500]\ttraining's binary_logloss: 0.0450205\tvalid_1's binary_logloss: 0.0475456\n",
      "Early stopping, best iteration is:\n",
      "[309]\ttraining's binary_logloss: 0.0449743\tvalid_1's binary_logloss: 0.0475139\n",
      "fold n°1\n",
      "Training until validation scores don't improve for 200 rounds.\n",
      "[100]\ttraining's binary_logloss: 0.045428\tvalid_1's binary_logloss: 0.046152\n",
      "[200]\ttraining's binary_logloss: 0.0453471\tvalid_1's binary_logloss: 0.0461251\n",
      "Early stopping, best iteration is:\n",
      "[63]\ttraining's binary_logloss: 0.0453754\tvalid_1's binary_logloss: 0.0460797\n",
      "fold n°2\n",
      "Training until validation scores don't improve for 200 rounds.\n",
      "[100]\ttraining's binary_logloss: 0.0456252\tvalid_1's binary_logloss: 0.0447763\n",
      "[200]\ttraining's binary_logloss: 0.045546\tvalid_1's binary_logloss: 0.0447076\n",
      "Early stopping, best iteration is:\n",
      "[48]\ttraining's binary_logloss: 0.045594\tvalid_1's binary_logloss: 0.0446773\n",
      "fold n°3\n",
      "Training until validation scores don't improve for 200 rounds.\n",
      "[100]\ttraining's binary_logloss: 0.0441838\tvalid_1's binary_logloss: 0.0501942\n",
      "[200]\ttraining's binary_logloss: 0.0441119\tvalid_1's binary_logloss: 0.0501192\n",
      "[300]\ttraining's binary_logloss: 0.0440764\tvalid_1's binary_logloss: 0.0500789\n",
      "[400]\ttraining's binary_logloss: 0.044088\tvalid_1's binary_logloss: 0.0500986\n",
      "Early stopping, best iteration is:\n",
      "[299]\ttraining's binary_logloss: 0.044078\tvalid_1's binary_logloss: 0.0500785\n",
      "fold n°4\n",
      "Training until validation scores don't improve for 200 rounds.\n",
      "[100]\ttraining's binary_logloss: 0.0452656\tvalid_1's binary_logloss: 0.0455524\n",
      "[200]\ttraining's binary_logloss: 0.0451716\tvalid_1's binary_logloss: 0.0454475\n",
      "[300]\ttraining's binary_logloss: 0.0451599\tvalid_1's binary_logloss: 0.0454323\n",
      "[400]\ttraining's binary_logloss: 0.0451677\tvalid_1's binary_logloss: 0.0454404\n",
      "[500]\ttraining's binary_logloss: 0.0451873\tvalid_1's binary_logloss: 0.0454647\n",
      "Early stopping, best iteration is:\n",
      "[309]\ttraining's binary_logloss: 0.0451506\tvalid_1's binary_logloss: 0.0454234\n",
      "CV score: 0.04675 \n",
      "CPU times: user 7min 35s, sys: 9.57 s, total: 7min 45s\n",
      "Wall time: 1min 8s\n"
     ]
    }
   ],
   "source": [
    "%%time\n",
    "folds = KFold(n_splits=5, shuffle=True, random_state=15)\n",
    "oof = np.zeros(len(df_train))\n",
    "predictions = np.zeros(len(df_test))\n",
    "feature_importance_df = pd.DataFrame()\n",
    "\n",
    "start = time.time()\n",
    "\n",
    "\n",
    "for fold_, (trn_idx, val_idx) in enumerate(folds.split(df_train.values, target.values)):\n",
    "    print(\"fold n°{}\".format(fold_))\n",
    "    trn_data = lgb.Dataset(df_train.iloc[trn_idx][features], label=target.iloc[trn_idx], categorical_feature=categorical_feats)\n",
    "    val_data = lgb.Dataset(df_train.iloc[val_idx][features], label=target.iloc[val_idx], categorical_feature=categorical_feats)\n",
    "\n",
    "    num_round = 10000\n",
    "    clf = lgb.train(param, trn_data, num_round, valid_sets = [trn_data, val_data], verbose_eval=100, early_stopping_rounds = 200)\n",
    "    oof[val_idx] = clf.predict(df_train.iloc[val_idx][features], num_iteration=clf.best_iteration)\n",
    "    \n",
    "    fold_importance_df = pd.DataFrame()\n",
    "    fold_importance_df[\"feature\"] = features\n",
    "    fold_importance_df[\"importance\"] = clf.feature_importance()\n",
    "    fold_importance_df[\"fold\"] = fold_ + 1\n",
    "    feature_importance_df = pd.concat([feature_importance_df, fold_importance_df], axis=0)\n",
    "    \n",
    "    predictions += clf.predict(df_test[features], num_iteration=clf.best_iteration) / folds.n_splits\n",
    "\n",
    "print(\"CV score: {:<8.5f}\".format(log_loss(target, oof)))"
   ]
  },
  {
   "cell_type": "code",
   "execution_count": 12,
   "metadata": {},
   "outputs": [
    {
     "data": {
      "text/html": [
       "<div>\n",
       "<style scoped>\n",
       "    .dataframe tbody tr th:only-of-type {\n",
       "        vertical-align: middle;\n",
       "    }\n",
       "\n",
       "    .dataframe tbody tr th {\n",
       "        vertical-align: top;\n",
       "    }\n",
       "\n",
       "    .dataframe thead th {\n",
       "        text-align: right;\n",
       "    }\n",
       "</style>\n",
       "<table border=\"1\" class=\"dataframe\">\n",
       "  <thead>\n",
       "    <tr style=\"text-align: right;\">\n",
       "      <th></th>\n",
       "      <th>card_id</th>\n",
       "      <th>target</th>\n",
       "    </tr>\n",
       "  </thead>\n",
       "  <tbody>\n",
       "    <tr>\n",
       "      <th>0</th>\n",
       "      <td>C_ID_0ab67a22ab</td>\n",
       "      <td>0.045358</td>\n",
       "    </tr>\n",
       "    <tr>\n",
       "      <th>1</th>\n",
       "      <td>C_ID_130fd0cbdd</td>\n",
       "      <td>0.001709</td>\n",
       "    </tr>\n",
       "    <tr>\n",
       "      <th>2</th>\n",
       "      <td>C_ID_b709037bc5</td>\n",
       "      <td>0.006204</td>\n",
       "    </tr>\n",
       "    <tr>\n",
       "      <th>3</th>\n",
       "      <td>C_ID_d27d835a9f</td>\n",
       "      <td>0.001709</td>\n",
       "    </tr>\n",
       "    <tr>\n",
       "      <th>4</th>\n",
       "      <td>C_ID_2b5e3df5c2</td>\n",
       "      <td>0.001709</td>\n",
       "    </tr>\n",
       "  </tbody>\n",
       "</table>\n",
       "</div>"
      ],
      "text/plain": [
       "           card_id    target\n",
       "0  C_ID_0ab67a22ab  0.045358\n",
       "1  C_ID_130fd0cbdd  0.001709\n",
       "2  C_ID_b709037bc5  0.006204\n",
       "3  C_ID_d27d835a9f  0.001709\n",
       "4  C_ID_2b5e3df5c2  0.001709"
      ]
     },
     "execution_count": 12,
     "metadata": {},
     "output_type": "execute_result"
    }
   ],
   "source": [
    "### 'target' is the probability of whether an observation is an outlier\n",
    "df_outlier_prob = pd.DataFrame({\"card_id\":df_test[\"card_id\"].values})\n",
    "df_outlier_prob[\"target\"] = predictions\n",
    "df_outlier_prob.head()"
   ]
  },
  {
   "cell_type": "code",
   "execution_count": 13,
   "metadata": {},
   "outputs": [],
   "source": [
    "# In case missing some predictable outlier, we choose top 25000 with highest outliers likelyhood.\n",
    "outlier_id = pd.DataFrame(df_outlier_prob.sort_values(by='target',ascending = False).head(25000)['card_id'])"
   ]
  },
  {
   "cell_type": "code",
   "execution_count": 19,
   "metadata": {},
   "outputs": [],
   "source": [
    "best_submission = pd.read_csv('data/blend/elo-blending/3.695.csv')"
   ]
  },
  {
   "cell_type": "code",
   "execution_count": 20,
   "metadata": {},
   "outputs": [
    {
     "data": {
      "text/html": [
       "<div>\n",
       "<style scoped>\n",
       "    .dataframe tbody tr th:only-of-type {\n",
       "        vertical-align: middle;\n",
       "    }\n",
       "\n",
       "    .dataframe tbody tr th {\n",
       "        vertical-align: top;\n",
       "    }\n",
       "\n",
       "    .dataframe thead th {\n",
       "        text-align: right;\n",
       "    }\n",
       "</style>\n",
       "<table border=\"1\" class=\"dataframe\">\n",
       "  <thead>\n",
       "    <tr style=\"text-align: right;\">\n",
       "      <th></th>\n",
       "      <th>card_id</th>\n",
       "      <th>target</th>\n",
       "    </tr>\n",
       "  </thead>\n",
       "  <tbody>\n",
       "    <tr>\n",
       "      <th>0</th>\n",
       "      <td>C_ID_0ab67a22ab</td>\n",
       "      <td>-2.502326</td>\n",
       "    </tr>\n",
       "    <tr>\n",
       "      <th>1</th>\n",
       "      <td>C_ID_6d8dba8475</td>\n",
       "      <td>-0.893964</td>\n",
       "    </tr>\n",
       "    <tr>\n",
       "      <th>2</th>\n",
       "      <td>C_ID_7f1041e8e1</td>\n",
       "      <td>-4.872942</td>\n",
       "    </tr>\n",
       "    <tr>\n",
       "      <th>3</th>\n",
       "      <td>C_ID_22e4a47c72</td>\n",
       "      <td>0.393946</td>\n",
       "    </tr>\n",
       "    <tr>\n",
       "      <th>4</th>\n",
       "      <td>C_ID_b54cfad8b2</td>\n",
       "      <td>-0.656266</td>\n",
       "    </tr>\n",
       "  </tbody>\n",
       "</table>\n",
       "</div>"
      ],
      "text/plain": [
       "           card_id    target\n",
       "0  C_ID_0ab67a22ab -2.502326\n",
       "1  C_ID_6d8dba8475 -0.893964\n",
       "2  C_ID_7f1041e8e1 -4.872942\n",
       "3  C_ID_22e4a47c72  0.393946\n",
       "4  C_ID_b54cfad8b2 -0.656266"
      ]
     },
     "execution_count": 20,
     "metadata": {},
     "output_type": "execute_result"
    }
   ],
   "source": [
    "most_likely_liers = best_submission.merge(outlier_id,how='right')\n",
    "most_likely_liers.head()"
   ]
  },
  {
   "cell_type": "code",
   "execution_count": 21,
   "metadata": {},
   "outputs": [
    {
     "name": "stdout",
     "output_type": "stream",
     "text": [
      "CPU times: user 6min 55s, sys: 4.9 s, total: 7min\n",
      "Wall time: 46min 15s\n"
     ]
    }
   ],
   "source": [
    "%%time\n",
    "for card_id in most_likely_liers['card_id']:\n",
    "    model_without_outliers.loc[model_without_outliers['card_id']==card_id,'target']\\\n",
    "    = most_likely_liers.loc[most_likely_liers['card_id']==card_id,'target'].values"
   ]
  },
  {
   "cell_type": "code",
   "execution_count": 22,
   "metadata": {},
   "outputs": [],
   "source": [
    "model_without_outliers.to_csv(\"combining_submission.csv\", index=False)"
   ]
  }
 ],
 "metadata": {
  "kernelspec": {
   "display_name": "Python 3",
   "language": "python",
   "name": "python3"
  },
  "language_info": {
   "codemirror_mode": {
    "name": "ipython",
    "version": 3
   },
   "file_extension": ".py",
   "mimetype": "text/x-python",
   "name": "python",
   "nbconvert_exporter": "python",
   "pygments_lexer": "ipython3",
   "version": "3.6.4"
  }
 },
 "nbformat": 4,
 "nbformat_minor": 2
}
