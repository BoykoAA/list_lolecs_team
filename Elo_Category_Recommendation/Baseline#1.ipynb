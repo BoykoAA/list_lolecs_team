{
 "cells": [
  {
   "cell_type": "code",
   "execution_count": 67,
   "metadata": {},
   "outputs": [],
   "source": [
    "import pandas as pd\n",
    "import numpy as np\n",
    "import seaborn as sns\n",
    "\n",
    "from sklearn.model_selection import train_test_split, cross_val_score\n",
    "\n",
    "import xgboost as xgb\n",
    "from xgboost import plot_importance\n",
    "\n",
    "import matplotlib.pyplot as plt\n",
    "%matplotlib inline"
   ]
  },
  {
   "cell_type": "code",
   "execution_count": 2,
   "metadata": {},
   "outputs": [],
   "source": [
    "train_df = pd.read_csv('data/train.csv', parse_dates=['first_active_month'])\n",
    "test_df = pd.read_csv('data/test.csv', parse_dates=['first_active_month'])"
   ]
  },
  {
   "cell_type": "code",
   "execution_count": 3,
   "metadata": {},
   "outputs": [],
   "source": [
    "def data_show(data):\n",
    "    display(data.head(5))\n",
    "    display(data.info())\n",
    "    print('shape:', data.shape)"
   ]
  },
  {
   "cell_type": "code",
   "execution_count": 4,
   "metadata": {},
   "outputs": [
    {
     "data": {
      "text/html": [
       "<div>\n",
       "<style scoped>\n",
       "    .dataframe tbody tr th:only-of-type {\n",
       "        vertical-align: middle;\n",
       "    }\n",
       "\n",
       "    .dataframe tbody tr th {\n",
       "        vertical-align: top;\n",
       "    }\n",
       "\n",
       "    .dataframe thead th {\n",
       "        text-align: right;\n",
       "    }\n",
       "</style>\n",
       "<table border=\"1\" class=\"dataframe\">\n",
       "  <thead>\n",
       "    <tr style=\"text-align: right;\">\n",
       "      <th></th>\n",
       "      <th>first_active_month</th>\n",
       "      <th>card_id</th>\n",
       "      <th>feature_1</th>\n",
       "      <th>feature_2</th>\n",
       "      <th>feature_3</th>\n",
       "      <th>target</th>\n",
       "    </tr>\n",
       "  </thead>\n",
       "  <tbody>\n",
       "    <tr>\n",
       "      <th>0</th>\n",
       "      <td>2017-06-01</td>\n",
       "      <td>C_ID_92a2005557</td>\n",
       "      <td>5</td>\n",
       "      <td>2</td>\n",
       "      <td>1</td>\n",
       "      <td>-0.820283</td>\n",
       "    </tr>\n",
       "    <tr>\n",
       "      <th>1</th>\n",
       "      <td>2017-01-01</td>\n",
       "      <td>C_ID_3d0044924f</td>\n",
       "      <td>4</td>\n",
       "      <td>1</td>\n",
       "      <td>0</td>\n",
       "      <td>0.392913</td>\n",
       "    </tr>\n",
       "    <tr>\n",
       "      <th>2</th>\n",
       "      <td>2016-08-01</td>\n",
       "      <td>C_ID_d639edf6cd</td>\n",
       "      <td>2</td>\n",
       "      <td>2</td>\n",
       "      <td>0</td>\n",
       "      <td>0.688056</td>\n",
       "    </tr>\n",
       "    <tr>\n",
       "      <th>3</th>\n",
       "      <td>2017-09-01</td>\n",
       "      <td>C_ID_186d6a6901</td>\n",
       "      <td>4</td>\n",
       "      <td>3</td>\n",
       "      <td>0</td>\n",
       "      <td>0.142495</td>\n",
       "    </tr>\n",
       "    <tr>\n",
       "      <th>4</th>\n",
       "      <td>2017-11-01</td>\n",
       "      <td>C_ID_cdbd2c0db2</td>\n",
       "      <td>1</td>\n",
       "      <td>3</td>\n",
       "      <td>0</td>\n",
       "      <td>-0.159749</td>\n",
       "    </tr>\n",
       "  </tbody>\n",
       "</table>\n",
       "</div>"
      ],
      "text/plain": [
       "  first_active_month          card_id  feature_1  feature_2  feature_3  \\\n",
       "0         2017-06-01  C_ID_92a2005557          5          2          1   \n",
       "1         2017-01-01  C_ID_3d0044924f          4          1          0   \n",
       "2         2016-08-01  C_ID_d639edf6cd          2          2          0   \n",
       "3         2017-09-01  C_ID_186d6a6901          4          3          0   \n",
       "4         2017-11-01  C_ID_cdbd2c0db2          1          3          0   \n",
       "\n",
       "     target  \n",
       "0 -0.820283  \n",
       "1  0.392913  \n",
       "2  0.688056  \n",
       "3  0.142495  \n",
       "4 -0.159749  "
      ]
     },
     "metadata": {},
     "output_type": "display_data"
    },
    {
     "name": "stdout",
     "output_type": "stream",
     "text": [
      "<class 'pandas.core.frame.DataFrame'>\n",
      "RangeIndex: 201917 entries, 0 to 201916\n",
      "Data columns (total 6 columns):\n",
      "first_active_month    201917 non-null datetime64[ns]\n",
      "card_id               201917 non-null object\n",
      "feature_1             201917 non-null int64\n",
      "feature_2             201917 non-null int64\n",
      "feature_3             201917 non-null int64\n",
      "target                201917 non-null float64\n",
      "dtypes: datetime64[ns](1), float64(1), int64(3), object(1)\n",
      "memory usage: 9.2+ MB\n"
     ]
    },
    {
     "data": {
      "text/plain": [
       "None"
      ]
     },
     "metadata": {},
     "output_type": "display_data"
    },
    {
     "name": "stdout",
     "output_type": "stream",
     "text": [
      "shape: (201917, 6)\n"
     ]
    }
   ],
   "source": [
    "data_show(train_df)"
   ]
  },
  {
   "cell_type": "code",
   "execution_count": 5,
   "metadata": {},
   "outputs": [
    {
     "name": "stderr",
     "output_type": "stream",
     "text": [
      "/Users/aleksandrbojko/anaconda3/lib/python3.6/site-packages/scipy/stats/stats.py:1713: FutureWarning: Using a non-tuple sequence for multidimensional indexing is deprecated; use `arr[tuple(seq)]` instead of `arr[seq]`. In the future this will be interpreted as an array index, `arr[np.array(seq)]`, which will result either in an error or a different result.\n",
      "  return np.add.reduce(sorted[indexer] * weights, axis=axis) / sumval\n"
     ]
    },
    {
     "data": {
      "image/png": "[encoded data removed]",
      "text/plain": [
       "<matplotlib.figure.Figure at 0x11bd90908>"
      ]
     },
     "metadata": {},
     "output_type": "display_data"
    }
   ],
   "source": [
    "plt.figure(figsize=(12, 6))\n",
    "sns.distplot(train_df['target'], bins=50, color='blue')\n",
    "plt.xlabel('target', fontsize=13)\n",
    "plt.show()"
   ]
  },
  {
   "cell_type": "code",
   "execution_count": 6,
   "metadata": {},
   "outputs": [
    {
     "name": "stdout",
     "output_type": "stream",
     "text": [
      "3    73573\n",
      "2    55797\n",
      "5    40625\n",
      "4    19885\n",
      "1    12037\n",
      "Name: feature_1, dtype: int64\n",
      "1    89242\n",
      "2    74839\n",
      "3    37836\n",
      "Name: feature_2, dtype: int64\n",
      "1    114198\n",
      "0     87719\n",
      "Name: feature_3, dtype: int64\n"
     ]
    },
    {
     "data": {
      "text/plain": [
       "[None, None, None]"
      ]
     },
     "execution_count": 6,
     "metadata": {},
     "output_type": "execute_result"
    }
   ],
   "source": [
    "[print(train_df['feature_' + str(i)].value_counts()) for i in np.arange(1, 4)]"
   ]
  },
  {
   "cell_type": "code",
   "execution_count": 7,
   "metadata": {},
   "outputs": [],
   "source": [
    "hist_df = pd.read_csv('data/historical_transactions.csv')"
   ]
  },
  {
   "cell_type": "code",
   "execution_count": 8,
   "metadata": {},
   "outputs": [
    {
     "data": {
      "text/html": [
       "<div>\n",
       "<style scoped>\n",
       "    .dataframe tbody tr th:only-of-type {\n",
       "        vertical-align: middle;\n",
       "    }\n",
       "\n",
       "    .dataframe tbody tr th {\n",
       "        vertical-align: top;\n",
       "    }\n",
       "\n",
       "    .dataframe thead th {\n",
       "        text-align: right;\n",
       "    }\n",
       "</style>\n",
       "<table border=\"1\" class=\"dataframe\">\n",
       "  <thead>\n",
       "    <tr style=\"text-align: right;\">\n",
       "      <th></th>\n",
       "      <th>authorized_flag</th>\n",
       "      <th>card_id</th>\n",
       "      <th>city_id</th>\n",
       "      <th>category_1</th>\n",
       "      <th>installments</th>\n",
       "      <th>category_3</th>\n",
       "      <th>merchant_category_id</th>\n",
       "      <th>merchant_id</th>\n",
       "      <th>month_lag</th>\n",
       "      <th>purchase_amount</th>\n",
       "      <th>purchase_date</th>\n",
       "      <th>category_2</th>\n",
       "      <th>state_id</th>\n",
       "      <th>subsector_id</th>\n",
       "    </tr>\n",
       "  </thead>\n",
       "  <tbody>\n",
       "    <tr>\n",
       "      <th>0</th>\n",
       "      <td>Y</td>\n",
       "      <td>C_ID_4e6213e9bc</td>\n",
       "      <td>88</td>\n",
       "      <td>N</td>\n",
       "      <td>0</td>\n",
       "      <td>A</td>\n",
       "      <td>80</td>\n",
       "      <td>M_ID_e020e9b302</td>\n",
       "      <td>-8</td>\n",
       "      <td>-0.703331</td>\n",
       "      <td>2017-06-25 15:33:07</td>\n",
       "      <td>1.0</td>\n",
       "      <td>16</td>\n",
       "      <td>37</td>\n",
       "    </tr>\n",
       "    <tr>\n",
       "      <th>1</th>\n",
       "      <td>Y</td>\n",
       "      <td>C_ID_4e6213e9bc</td>\n",
       "      <td>88</td>\n",
       "      <td>N</td>\n",
       "      <td>0</td>\n",
       "      <td>A</td>\n",
       "      <td>367</td>\n",
       "      <td>M_ID_86ec983688</td>\n",
       "      <td>-7</td>\n",
       "      <td>-0.733128</td>\n",
       "      <td>2017-07-15 12:10:45</td>\n",
       "      <td>1.0</td>\n",
       "      <td>16</td>\n",
       "      <td>16</td>\n",
       "    </tr>\n",
       "    <tr>\n",
       "      <th>2</th>\n",
       "      <td>Y</td>\n",
       "      <td>C_ID_4e6213e9bc</td>\n",
       "      <td>88</td>\n",
       "      <td>N</td>\n",
       "      <td>0</td>\n",
       "      <td>A</td>\n",
       "      <td>80</td>\n",
       "      <td>M_ID_979ed661fc</td>\n",
       "      <td>-6</td>\n",
       "      <td>-0.720386</td>\n",
       "      <td>2017-08-09 22:04:29</td>\n",
       "      <td>1.0</td>\n",
       "      <td>16</td>\n",
       "      <td>37</td>\n",
       "    </tr>\n",
       "    <tr>\n",
       "      <th>3</th>\n",
       "      <td>Y</td>\n",
       "      <td>C_ID_4e6213e9bc</td>\n",
       "      <td>88</td>\n",
       "      <td>N</td>\n",
       "      <td>0</td>\n",
       "      <td>A</td>\n",
       "      <td>560</td>\n",
       "      <td>M_ID_e6d5ae8ea6</td>\n",
       "      <td>-5</td>\n",
       "      <td>-0.735352</td>\n",
       "      <td>2017-09-02 10:06:26</td>\n",
       "      <td>1.0</td>\n",
       "      <td>16</td>\n",
       "      <td>34</td>\n",
       "    </tr>\n",
       "    <tr>\n",
       "      <th>4</th>\n",
       "      <td>Y</td>\n",
       "      <td>C_ID_4e6213e9bc</td>\n",
       "      <td>88</td>\n",
       "      <td>N</td>\n",
       "      <td>0</td>\n",
       "      <td>A</td>\n",
       "      <td>80</td>\n",
       "      <td>M_ID_e020e9b302</td>\n",
       "      <td>-11</td>\n",
       "      <td>-0.722865</td>\n",
       "      <td>2017-03-10 01:14:19</td>\n",
       "      <td>1.0</td>\n",
       "      <td>16</td>\n",
       "      <td>37</td>\n",
       "    </tr>\n",
       "  </tbody>\n",
       "</table>\n",
       "</div>"
      ],
      "text/plain": [
       "  authorized_flag          card_id  city_id category_1  installments  \\\n",
       "0               Y  C_ID_4e6213e9bc       88          N             0   \n",
       "1               Y  C_ID_4e6213e9bc       88          N             0   \n",
       "2               Y  C_ID_4e6213e9bc       88          N             0   \n",
       "3               Y  C_ID_4e6213e9bc       88          N             0   \n",
       "4               Y  C_ID_4e6213e9bc       88          N             0   \n",
       "\n",
       "  category_3  merchant_category_id      merchant_id  month_lag  \\\n",
       "0          A                    80  M_ID_e020e9b302         -8   \n",
       "1          A                   367  M_ID_86ec983688         -7   \n",
       "2          A                    80  M_ID_979ed661fc         -6   \n",
       "3          A                   560  M_ID_e6d5ae8ea6         -5   \n",
       "4          A                    80  M_ID_e020e9b302        -11   \n",
       "\n",
       "   purchase_amount        purchase_date  category_2  state_id  subsector_id  \n",
       "0        -0.703331  2017-06-25 15:33:07         1.0        16            37  \n",
       "1        -0.733128  2017-07-15 12:10:45         1.0        16            16  \n",
       "2        -0.720386  2017-08-09 22:04:29         1.0        16            37  \n",
       "3        -0.735352  2017-09-02 10:06:26         1.0        16            34  \n",
       "4        -0.722865  2017-03-10 01:14:19         1.0        16            37  "
      ]
     },
     "metadata": {},
     "output_type": "display_data"
    },
    {
     "name": "stdout",
     "output_type": "stream",
     "text": [
      "<class 'pandas.core.frame.DataFrame'>\n",
      "RangeIndex: 29112361 entries, 0 to 29112360\n",
      "Data columns (total 14 columns):\n",
      "authorized_flag         object\n",
      "card_id                 object\n",
      "city_id                 int64\n",
      "category_1              object\n",
      "installments            int64\n",
      "category_3              object\n",
      "merchant_category_id    int64\n",
      "merchant_id             object\n",
      "month_lag               int64\n",
      "purchase_amount         float64\n",
      "purchase_date           object\n",
      "category_2              float64\n",
      "state_id                int64\n",
      "subsector_id            int64\n",
      "dtypes: float64(2), int64(6), object(6)\n",
      "memory usage: 3.0+ GB\n"
     ]
    },
    {
     "data": {
      "text/plain": [
       "None"
      ]
     },
     "metadata": {},
     "output_type": "display_data"
    },
    {
     "name": "stdout",
     "output_type": "stream",
     "text": [
      "shape: (29112361, 14)\n"
     ]
    }
   ],
   "source": [
    "data_show(hist_df)"
   ]
  },
  {
   "cell_type": "code",
   "execution_count": 9,
   "metadata": {},
   "outputs": [],
   "source": [
    "gdf = hist_df.groupby(\"card_id\")\n",
    "gdf = gdf[\"purchase_amount\"].size().reset_index()\n",
    "gdf.columns = ['card_id', 'num_hist_transaction']\n",
    "train_df = pd.merge(train_df, gdf, on='card_id', how='left')\n",
    "test_df = pd.merge(test_df, gdf, on='card_id', how='left')"
   ]
  },
  {
   "cell_type": "code",
   "execution_count": 10,
   "metadata": {},
   "outputs": [
    {
     "data": {
      "text/html": [
       "<div>\n",
       "<style scoped>\n",
       "    .dataframe tbody tr th:only-of-type {\n",
       "        vertical-align: middle;\n",
       "    }\n",
       "\n",
       "    .dataframe tbody tr th {\n",
       "        vertical-align: top;\n",
       "    }\n",
       "\n",
       "    .dataframe thead th {\n",
       "        text-align: right;\n",
       "    }\n",
       "</style>\n",
       "<table border=\"1\" class=\"dataframe\">\n",
       "  <thead>\n",
       "    <tr style=\"text-align: right;\">\n",
       "      <th></th>\n",
       "      <th>first_active_month</th>\n",
       "      <th>card_id</th>\n",
       "      <th>feature_1</th>\n",
       "      <th>feature_2</th>\n",
       "      <th>feature_3</th>\n",
       "      <th>target</th>\n",
       "      <th>num_hist_transaction</th>\n",
       "    </tr>\n",
       "  </thead>\n",
       "  <tbody>\n",
       "    <tr>\n",
       "      <th>0</th>\n",
       "      <td>2017-06-01</td>\n",
       "      <td>C_ID_92a2005557</td>\n",
       "      <td>5</td>\n",
       "      <td>2</td>\n",
       "      <td>1</td>\n",
       "      <td>-0.820283</td>\n",
       "      <td>260</td>\n",
       "    </tr>\n",
       "    <tr>\n",
       "      <th>1</th>\n",
       "      <td>2017-01-01</td>\n",
       "      <td>C_ID_3d0044924f</td>\n",
       "      <td>4</td>\n",
       "      <td>1</td>\n",
       "      <td>0</td>\n",
       "      <td>0.392913</td>\n",
       "      <td>350</td>\n",
       "    </tr>\n",
       "    <tr>\n",
       "      <th>2</th>\n",
       "      <td>2016-08-01</td>\n",
       "      <td>C_ID_d639edf6cd</td>\n",
       "      <td>2</td>\n",
       "      <td>2</td>\n",
       "      <td>0</td>\n",
       "      <td>0.688056</td>\n",
       "      <td>43</td>\n",
       "    </tr>\n",
       "    <tr>\n",
       "      <th>3</th>\n",
       "      <td>2017-09-01</td>\n",
       "      <td>C_ID_186d6a6901</td>\n",
       "      <td>4</td>\n",
       "      <td>3</td>\n",
       "      <td>0</td>\n",
       "      <td>0.142495</td>\n",
       "      <td>77</td>\n",
       "    </tr>\n",
       "    <tr>\n",
       "      <th>4</th>\n",
       "      <td>2017-11-01</td>\n",
       "      <td>C_ID_cdbd2c0db2</td>\n",
       "      <td>1</td>\n",
       "      <td>3</td>\n",
       "      <td>0</td>\n",
       "      <td>-0.159749</td>\n",
       "      <td>133</td>\n",
       "    </tr>\n",
       "  </tbody>\n",
       "</table>\n",
       "</div>"
      ],
      "text/plain": [
       "  first_active_month          card_id  feature_1  feature_2  feature_3  \\\n",
       "0         2017-06-01  C_ID_92a2005557          5          2          1   \n",
       "1         2017-01-01  C_ID_3d0044924f          4          1          0   \n",
       "2         2016-08-01  C_ID_d639edf6cd          2          2          0   \n",
       "3         2017-09-01  C_ID_186d6a6901          4          3          0   \n",
       "4         2017-11-01  C_ID_cdbd2c0db2          1          3          0   \n",
       "\n",
       "     target  num_hist_transaction  \n",
       "0 -0.820283                   260  \n",
       "1  0.392913                   350  \n",
       "2  0.688056                    43  \n",
       "3  0.142495                    77  \n",
       "4 -0.159749                   133  "
      ]
     },
     "metadata": {},
     "output_type": "display_data"
    },
    {
     "name": "stdout",
     "output_type": "stream",
     "text": [
      "<class 'pandas.core.frame.DataFrame'>\n",
      "Int64Index: 201917 entries, 0 to 201916\n",
      "Data columns (total 7 columns):\n",
      "first_active_month      201917 non-null datetime64[ns]\n",
      "card_id                 201917 non-null object\n",
      "feature_1               201917 non-null int64\n",
      "feature_2               201917 non-null int64\n",
      "feature_3               201917 non-null int64\n",
      "target                  201917 non-null float64\n",
      "num_hist_transaction    201917 non-null int64\n",
      "dtypes: datetime64[ns](1), float64(1), int64(4), object(1)\n",
      "memory usage: 12.3+ MB\n"
     ]
    },
    {
     "data": {
      "text/plain": [
       "None"
      ]
     },
     "metadata": {},
     "output_type": "display_data"
    },
    {
     "name": "stdout",
     "output_type": "stream",
     "text": [
      "shape: (201917, 7)\n"
     ]
    }
   ],
   "source": [
    "data_show(train_df)"
   ]
  },
  {
   "cell_type": "code",
   "execution_count": 11,
   "metadata": {},
   "outputs": [],
   "source": [
    "cnt_srs = train_df.groupby(\"num_hist_transaction\")['target'].mean()\n",
    "cnt_srs = cnt_srs.sort_index()\n",
    "cnt_srs = cnt_srs[:-50]"
   ]
  },
  {
   "cell_type": "code",
   "execution_count": 12,
   "metadata": {},
   "outputs": [],
   "source": [
    "bins = [0, 10, 20, 30, 40, 50, 75, 100, 150, 200, 500, 10000]\n",
    "train_df['binned_num_hist_transactions'] = pd.cut(train_df['num_hist_transaction'], bins)"
   ]
  },
  {
   "cell_type": "code",
   "execution_count": 13,
   "metadata": {},
   "outputs": [],
   "source": [
    "cnt_srs = train_df.groupby(\"binned_num_hist_transactions\")['target'].mean()"
   ]
  },
  {
   "cell_type": "code",
   "execution_count": 14,
   "metadata": {},
   "outputs": [],
   "source": [
    "gdf = hist_df.groupby('card_id')['purchase_amount'].agg(['sum', 'mean', 'std', 'min', 'max']).reset_index()\n",
    "gdf.columns = [\"card_id\", \"sum_hist_trans\", \"mean_hist_trans\", \"std_hist_trans\",\n",
    "               \"min_hist_trans\", \"max_hist_trans\"]"
   ]
  },
  {
   "cell_type": "code",
   "execution_count": 15,
   "metadata": {},
   "outputs": [],
   "source": [
    "train_df = pd.merge(train_df, gdf, on=\"card_id\", how=\"left\")\n",
    "test_df = pd.merge(test_df, gdf, on=\"card_id\", how=\"left\")"
   ]
  },
  {
   "cell_type": "code",
   "execution_count": 16,
   "metadata": {},
   "outputs": [
    {
     "data": {
      "text/html": [
       "<div>\n",
       "<style scoped>\n",
       "    .dataframe tbody tr th:only-of-type {\n",
       "        vertical-align: middle;\n",
       "    }\n",
       "\n",
       "    .dataframe tbody tr th {\n",
       "        vertical-align: top;\n",
       "    }\n",
       "\n",
       "    .dataframe thead th {\n",
       "        text-align: right;\n",
       "    }\n",
       "</style>\n",
       "<table border=\"1\" class=\"dataframe\">\n",
       "  <thead>\n",
       "    <tr style=\"text-align: right;\">\n",
       "      <th></th>\n",
       "      <th>first_active_month</th>\n",
       "      <th>card_id</th>\n",
       "      <th>feature_1</th>\n",
       "      <th>feature_2</th>\n",
       "      <th>feature_3</th>\n",
       "      <th>target</th>\n",
       "      <th>num_hist_transaction</th>\n",
       "      <th>binned_num_hist_transactions</th>\n",
       "      <th>sum_hist_trans</th>\n",
       "      <th>mean_hist_trans</th>\n",
       "      <th>std_hist_trans</th>\n",
       "      <th>min_hist_trans</th>\n",
       "      <th>max_hist_trans</th>\n",
       "    </tr>\n",
       "  </thead>\n",
       "  <tbody>\n",
       "    <tr>\n",
       "      <th>0</th>\n",
       "      <td>2017-06-01</td>\n",
       "      <td>C_ID_92a2005557</td>\n",
       "      <td>5</td>\n",
       "      <td>2</td>\n",
       "      <td>1</td>\n",
       "      <td>-0.820283</td>\n",
       "      <td>260</td>\n",
       "      <td>(200, 500]</td>\n",
       "      <td>-165.968739</td>\n",
       "      <td>-0.638341</td>\n",
       "      <td>0.212139</td>\n",
       "      <td>-0.739395</td>\n",
       "      <td>2.258395</td>\n",
       "    </tr>\n",
       "    <tr>\n",
       "      <th>1</th>\n",
       "      <td>2017-01-01</td>\n",
       "      <td>C_ID_3d0044924f</td>\n",
       "      <td>4</td>\n",
       "      <td>1</td>\n",
       "      <td>0</td>\n",
       "      <td>0.392913</td>\n",
       "      <td>350</td>\n",
       "      <td>(200, 500]</td>\n",
       "      <td>-210.006336</td>\n",
       "      <td>-0.600018</td>\n",
       "      <td>0.384967</td>\n",
       "      <td>-0.742400</td>\n",
       "      <td>4.630299</td>\n",
       "    </tr>\n",
       "    <tr>\n",
       "      <th>2</th>\n",
       "      <td>2016-08-01</td>\n",
       "      <td>C_ID_d639edf6cd</td>\n",
       "      <td>2</td>\n",
       "      <td>2</td>\n",
       "      <td>0</td>\n",
       "      <td>0.688056</td>\n",
       "      <td>43</td>\n",
       "      <td>(40, 50]</td>\n",
       "      <td>-29.167391</td>\n",
       "      <td>-0.678311</td>\n",
       "      <td>0.087380</td>\n",
       "      <td>-0.730138</td>\n",
       "      <td>-0.145847</td>\n",
       "    </tr>\n",
       "    <tr>\n",
       "      <th>3</th>\n",
       "      <td>2017-09-01</td>\n",
       "      <td>C_ID_186d6a6901</td>\n",
       "      <td>4</td>\n",
       "      <td>3</td>\n",
       "      <td>0</td>\n",
       "      <td>0.142495</td>\n",
       "      <td>77</td>\n",
       "      <td>(75, 100]</td>\n",
       "      <td>-49.491364</td>\n",
       "      <td>-0.642745</td>\n",
       "      <td>0.261624</td>\n",
       "      <td>-0.740897</td>\n",
       "      <td>1.445596</td>\n",
       "    </tr>\n",
       "    <tr>\n",
       "      <th>4</th>\n",
       "      <td>2017-11-01</td>\n",
       "      <td>C_ID_cdbd2c0db2</td>\n",
       "      <td>1</td>\n",
       "      <td>3</td>\n",
       "      <td>0</td>\n",
       "      <td>-0.159749</td>\n",
       "      <td>133</td>\n",
       "      <td>(100, 150]</td>\n",
       "      <td>-48.687656</td>\n",
       "      <td>-0.366073</td>\n",
       "      <td>1.352094</td>\n",
       "      <td>-0.746156</td>\n",
       "      <td>7.193041</td>\n",
       "    </tr>\n",
       "  </tbody>\n",
       "</table>\n",
       "</div>"
      ],
      "text/plain": [
       "  first_active_month          card_id  feature_1  feature_2  feature_3  \\\n",
       "0         2017-06-01  C_ID_92a2005557          5          2          1   \n",
       "1         2017-01-01  C_ID_3d0044924f          4          1          0   \n",
       "2         2016-08-01  C_ID_d639edf6cd          2          2          0   \n",
       "3         2017-09-01  C_ID_186d6a6901          4          3          0   \n",
       "4         2017-11-01  C_ID_cdbd2c0db2          1          3          0   \n",
       "\n",
       "     target  num_hist_transaction binned_num_hist_transactions  \\\n",
       "0 -0.820283                   260                   (200, 500]   \n",
       "1  0.392913                   350                   (200, 500]   \n",
       "2  0.688056                    43                     (40, 50]   \n",
       "3  0.142495                    77                    (75, 100]   \n",
       "4 -0.159749                   133                   (100, 150]   \n",
       "\n",
       "   sum_hist_trans  mean_hist_trans  std_hist_trans  min_hist_trans  \\\n",
       "0     -165.968739        -0.638341        0.212139       -0.739395   \n",
       "1     -210.006336        -0.600018        0.384967       -0.742400   \n",
       "2      -29.167391        -0.678311        0.087380       -0.730138   \n",
       "3      -49.491364        -0.642745        0.261624       -0.740897   \n",
       "4      -48.687656        -0.366073        1.352094       -0.746156   \n",
       "\n",
       "   max_hist_trans  \n",
       "0        2.258395  \n",
       "1        4.630299  \n",
       "2       -0.145847  \n",
       "3        1.445596  \n",
       "4        7.193041  "
      ]
     },
     "metadata": {},
     "output_type": "display_data"
    },
    {
     "name": "stdout",
     "output_type": "stream",
     "text": [
      "<class 'pandas.core.frame.DataFrame'>\n",
      "Int64Index: 201917 entries, 0 to 201916\n",
      "Data columns (total 13 columns):\n",
      "first_active_month              201917 non-null datetime64[ns]\n",
      "card_id                         201917 non-null object\n",
      "feature_1                       201917 non-null int64\n",
      "feature_2                       201917 non-null int64\n",
      "feature_3                       201917 non-null int64\n",
      "target                          201917 non-null float64\n",
      "num_hist_transaction            201917 non-null int64\n",
      "binned_num_hist_transactions    201917 non-null category\n",
      "sum_hist_trans                  201917 non-null float64\n",
      "mean_hist_trans                 201917 non-null float64\n",
      "std_hist_trans                  201917 non-null float64\n",
      "min_hist_trans                  201917 non-null float64\n",
      "max_hist_trans                  201917 non-null float64\n",
      "dtypes: category(1), datetime64[ns](1), float64(6), int64(4), object(1)\n",
      "memory usage: 20.2+ MB\n"
     ]
    },
    {
     "data": {
      "text/plain": [
       "None"
      ]
     },
     "metadata": {},
     "output_type": "display_data"
    },
    {
     "name": "stdout",
     "output_type": "stream",
     "text": [
      "shape: (201917, 13)\n"
     ]
    }
   ],
   "source": [
    "data_show(train_df)"
   ]
  },
  {
   "cell_type": "code",
   "execution_count": 17,
   "metadata": {
    "scrolled": true
   },
   "outputs": [],
   "source": [
    "bins = np.percentile(train_df[\"sum_hist_trans\"], range(0,101,10))\n",
    "train_df['binned_sum_hist_trans'] = pd.cut(train_df['sum_hist_trans'], bins)"
   ]
  },
  {
   "cell_type": "code",
   "execution_count": 18,
   "metadata": {},
   "outputs": [
    {
     "data": {
      "text/html": [
       "<div>\n",
       "<style scoped>\n",
       "    .dataframe tbody tr th:only-of-type {\n",
       "        vertical-align: middle;\n",
       "    }\n",
       "\n",
       "    .dataframe tbody tr th {\n",
       "        vertical-align: top;\n",
       "    }\n",
       "\n",
       "    .dataframe thead th {\n",
       "        text-align: right;\n",
       "    }\n",
       "</style>\n",
       "<table border=\"1\" class=\"dataframe\">\n",
       "  <thead>\n",
       "    <tr style=\"text-align: right;\">\n",
       "      <th></th>\n",
       "      <th>authorized_flag</th>\n",
       "      <th>card_id</th>\n",
       "      <th>city_id</th>\n",
       "      <th>category_1</th>\n",
       "      <th>installments</th>\n",
       "      <th>category_3</th>\n",
       "      <th>merchant_category_id</th>\n",
       "      <th>merchant_id</th>\n",
       "      <th>month_lag</th>\n",
       "      <th>purchase_amount</th>\n",
       "      <th>purchase_date</th>\n",
       "      <th>category_2</th>\n",
       "      <th>state_id</th>\n",
       "      <th>subsector_id</th>\n",
       "    </tr>\n",
       "  </thead>\n",
       "  <tbody>\n",
       "    <tr>\n",
       "      <th>0</th>\n",
       "      <td>Y</td>\n",
       "      <td>C_ID_415bb3a509</td>\n",
       "      <td>107</td>\n",
       "      <td>N</td>\n",
       "      <td>1</td>\n",
       "      <td>B</td>\n",
       "      <td>307</td>\n",
       "      <td>M_ID_b0c793002c</td>\n",
       "      <td>1</td>\n",
       "      <td>-0.557574</td>\n",
       "      <td>2018-03-11 14:57:36</td>\n",
       "      <td>1.0</td>\n",
       "      <td>9</td>\n",
       "      <td>19</td>\n",
       "    </tr>\n",
       "    <tr>\n",
       "      <th>1</th>\n",
       "      <td>Y</td>\n",
       "      <td>C_ID_415bb3a509</td>\n",
       "      <td>140</td>\n",
       "      <td>N</td>\n",
       "      <td>1</td>\n",
       "      <td>B</td>\n",
       "      <td>307</td>\n",
       "      <td>M_ID_88920c89e8</td>\n",
       "      <td>1</td>\n",
       "      <td>-0.569580</td>\n",
       "      <td>2018-03-19 18:53:37</td>\n",
       "      <td>1.0</td>\n",
       "      <td>9</td>\n",
       "      <td>19</td>\n",
       "    </tr>\n",
       "    <tr>\n",
       "      <th>2</th>\n",
       "      <td>Y</td>\n",
       "      <td>C_ID_415bb3a509</td>\n",
       "      <td>330</td>\n",
       "      <td>N</td>\n",
       "      <td>1</td>\n",
       "      <td>B</td>\n",
       "      <td>507</td>\n",
       "      <td>M_ID_ad5237ef6b</td>\n",
       "      <td>2</td>\n",
       "      <td>-0.551037</td>\n",
       "      <td>2018-04-26 14:08:44</td>\n",
       "      <td>1.0</td>\n",
       "      <td>9</td>\n",
       "      <td>14</td>\n",
       "    </tr>\n",
       "    <tr>\n",
       "      <th>3</th>\n",
       "      <td>Y</td>\n",
       "      <td>C_ID_415bb3a509</td>\n",
       "      <td>-1</td>\n",
       "      <td>Y</td>\n",
       "      <td>1</td>\n",
       "      <td>B</td>\n",
       "      <td>661</td>\n",
       "      <td>M_ID_9e84cda3b1</td>\n",
       "      <td>1</td>\n",
       "      <td>-0.671925</td>\n",
       "      <td>2018-03-07 09:43:21</td>\n",
       "      <td>NaN</td>\n",
       "      <td>-1</td>\n",
       "      <td>8</td>\n",
       "    </tr>\n",
       "    <tr>\n",
       "      <th>4</th>\n",
       "      <td>Y</td>\n",
       "      <td>C_ID_ef55cf8d4b</td>\n",
       "      <td>-1</td>\n",
       "      <td>Y</td>\n",
       "      <td>1</td>\n",
       "      <td>B</td>\n",
       "      <td>166</td>\n",
       "      <td>M_ID_3c86fa3831</td>\n",
       "      <td>1</td>\n",
       "      <td>-0.659904</td>\n",
       "      <td>2018-03-22 21:07:53</td>\n",
       "      <td>NaN</td>\n",
       "      <td>-1</td>\n",
       "      <td>29</td>\n",
       "    </tr>\n",
       "  </tbody>\n",
       "</table>\n",
       "</div>"
      ],
      "text/plain": [
       "  authorized_flag          card_id  city_id category_1  installments  \\\n",
       "0               Y  C_ID_415bb3a509      107          N             1   \n",
       "1               Y  C_ID_415bb3a509      140          N             1   \n",
       "2               Y  C_ID_415bb3a509      330          N             1   \n",
       "3               Y  C_ID_415bb3a509       -1          Y             1   \n",
       "4               Y  C_ID_ef55cf8d4b       -1          Y             1   \n",
       "\n",
       "  category_3  merchant_category_id      merchant_id  month_lag  \\\n",
       "0          B                   307  M_ID_b0c793002c          1   \n",
       "1          B                   307  M_ID_88920c89e8          1   \n",
       "2          B                   507  M_ID_ad5237ef6b          2   \n",
       "3          B                   661  M_ID_9e84cda3b1          1   \n",
       "4          B                   166  M_ID_3c86fa3831          1   \n",
       "\n",
       "   purchase_amount        purchase_date  category_2  state_id  subsector_id  \n",
       "0        -0.557574  2018-03-11 14:57:36         1.0         9            19  \n",
       "1        -0.569580  2018-03-19 18:53:37         1.0         9            19  \n",
       "2        -0.551037  2018-04-26 14:08:44         1.0         9            14  \n",
       "3        -0.671925  2018-03-07 09:43:21         NaN        -1             8  \n",
       "4        -0.659904  2018-03-22 21:07:53         NaN        -1            29  "
      ]
     },
     "metadata": {},
     "output_type": "display_data"
    },
    {
     "name": "stdout",
     "output_type": "stream",
     "text": [
      "<class 'pandas.core.frame.DataFrame'>\n",
      "RangeIndex: 1963031 entries, 0 to 1963030\n",
      "Data columns (total 14 columns):\n",
      "authorized_flag         object\n",
      "card_id                 object\n",
      "city_id                 int64\n",
      "category_1              object\n",
      "installments            int64\n",
      "category_3              object\n",
      "merchant_category_id    int64\n",
      "merchant_id             object\n",
      "month_lag               int64\n",
      "purchase_amount         float64\n",
      "purchase_date           object\n",
      "category_2              float64\n",
      "state_id                int64\n",
      "subsector_id            int64\n",
      "dtypes: float64(2), int64(6), object(6)\n",
      "memory usage: 209.7+ MB\n"
     ]
    },
    {
     "data": {
      "text/plain": [
       "None"
      ]
     },
     "metadata": {},
     "output_type": "display_data"
    },
    {
     "name": "stdout",
     "output_type": "stream",
     "text": [
      "shape: (1963031, 14)\n"
     ]
    }
   ],
   "source": [
    "new_trans_df = pd.read_csv('data/new_merchant_transactions.csv')\n",
    "data_show(new_trans_df)"
   ]
  },
  {
   "cell_type": "code",
   "execution_count": 19,
   "metadata": {},
   "outputs": [],
   "source": [
    "gdf = new_trans_df.groupby('card_id')['purchase_amount'].size().reset_index()\n",
    "gdf.columns = ['card_id', 'num_merch_transactions']\n",
    "\n",
    "train_df = pd.merge(train_df, gdf, on='card_id', how='left')\n",
    "test_df = pd.merge(test_df, gdf, on='card_id', how='left')"
   ]
  },
  {
   "cell_type": "code",
   "execution_count": 20,
   "metadata": {},
   "outputs": [],
   "source": [
    "bins = [0, 10, 20, 30, 40, 50, 75, 10000]\n",
    "train_df['binned_num_merch_transactions'] = pd.cut(train_df['num_merch_transactions'], bins)"
   ]
  },
  {
   "cell_type": "code",
   "execution_count": 21,
   "metadata": {},
   "outputs": [],
   "source": [
    "gdf = new_trans_df.groupby('card_id')['purchase_amount'].agg(['sum', 'mean', 'std', 'min', 'max']).reset_index()\n",
    "gdf.columns = [\"card_id\", \"sum_merch_trans\", \"mean_merch_trans\", \"std_merch_trans\", \"min_merch_trans\",\n",
    "               \"max_merch_trans\"]\n",
    "\n",
    "train_df = pd.merge(train_df, gdf, on='card_id', how='left')\n",
    "test_df = pd.merge(test_df, gdf, on='card_id', how='left')"
   ]
  },
  {
   "cell_type": "code",
   "execution_count": 22,
   "metadata": {},
   "outputs": [],
   "source": [
    "bins = np.nanpercentile(train_df[\"sum_merch_trans\"], range(0,101,10))\n",
    "train_df['binned_sum_merch_trans'] = pd.cut(train_df['sum_merch_trans'], bins)"
   ]
  },
  {
   "cell_type": "code",
   "execution_count": 23,
   "metadata": {},
   "outputs": [],
   "source": [
    "bins = np.nanpercentile(train_df[\"mean_merch_trans\"], range(0,101,10))\n",
    "train_df['binned_mean_merch_trans'] = pd.cut(train_df['mean_merch_trans'], bins)"
   ]
  },
  {
   "cell_type": "code",
   "execution_count": 24,
   "metadata": {},
   "outputs": [
    {
     "data": {
      "text/html": [
       "<div>\n",
       "<style scoped>\n",
       "    .dataframe tbody tr th:only-of-type {\n",
       "        vertical-align: middle;\n",
       "    }\n",
       "\n",
       "    .dataframe tbody tr th {\n",
       "        vertical-align: top;\n",
       "    }\n",
       "\n",
       "    .dataframe thead th {\n",
       "        text-align: right;\n",
       "    }\n",
       "</style>\n",
       "<table border=\"1\" class=\"dataframe\">\n",
       "  <thead>\n",
       "    <tr style=\"text-align: right;\">\n",
       "      <th></th>\n",
       "      <th>first_active_month</th>\n",
       "      <th>card_id</th>\n",
       "      <th>feature_1</th>\n",
       "      <th>feature_2</th>\n",
       "      <th>feature_3</th>\n",
       "      <th>target</th>\n",
       "      <th>num_hist_transaction</th>\n",
       "      <th>binned_num_hist_transactions</th>\n",
       "      <th>sum_hist_trans</th>\n",
       "      <th>mean_hist_trans</th>\n",
       "      <th>...</th>\n",
       "      <th>binned_sum_hist_trans</th>\n",
       "      <th>num_merch_transactions</th>\n",
       "      <th>binned_num_merch_transactions</th>\n",
       "      <th>sum_merch_trans</th>\n",
       "      <th>mean_merch_trans</th>\n",
       "      <th>std_merch_trans</th>\n",
       "      <th>min_merch_trans</th>\n",
       "      <th>max_merch_trans</th>\n",
       "      <th>binned_sum_merch_trans</th>\n",
       "      <th>binned_mean_merch_trans</th>\n",
       "    </tr>\n",
       "  </thead>\n",
       "  <tbody>\n",
       "    <tr>\n",
       "      <th>0</th>\n",
       "      <td>2017-06-01</td>\n",
       "      <td>C_ID_92a2005557</td>\n",
       "      <td>5</td>\n",
       "      <td>2</td>\n",
       "      <td>1</td>\n",
       "      <td>-0.820283</td>\n",
       "      <td>260</td>\n",
       "      <td>(200, 500]</td>\n",
       "      <td>-165.968739</td>\n",
       "      <td>-0.638341</td>\n",
       "      <td>...</td>\n",
       "      <td>(-2088.013, -124.526]</td>\n",
       "      <td>23.0</td>\n",
       "      <td>(20, 30]</td>\n",
       "      <td>-13.244202</td>\n",
       "      <td>-0.575835</td>\n",
       "      <td>0.135812</td>\n",
       "      <td>-0.724368</td>\n",
       "      <td>-0.296112</td>\n",
       "      <td>(-70.813, -8.882]</td>\n",
       "      <td>(-0.61, -0.565]</td>\n",
       "    </tr>\n",
       "    <tr>\n",
       "      <th>1</th>\n",
       "      <td>2017-01-01</td>\n",
       "      <td>C_ID_3d0044924f</td>\n",
       "      <td>4</td>\n",
       "      <td>1</td>\n",
       "      <td>0</td>\n",
       "      <td>0.392913</td>\n",
       "      <td>350</td>\n",
       "      <td>(200, 500]</td>\n",
       "      <td>-210.006336</td>\n",
       "      <td>-0.600018</td>\n",
       "      <td>...</td>\n",
       "      <td>(-2088.013, -124.526]</td>\n",
       "      <td>6.0</td>\n",
       "      <td>(0, 10]</td>\n",
       "      <td>-4.355735</td>\n",
       "      <td>-0.725956</td>\n",
       "      <td>0.014326</td>\n",
       "      <td>-0.739410</td>\n",
       "      <td>-0.701858</td>\n",
       "      <td>(-4.574, -3.483]</td>\n",
       "      <td>(-0.747, -0.717]</td>\n",
       "    </tr>\n",
       "    <tr>\n",
       "      <th>2</th>\n",
       "      <td>2016-08-01</td>\n",
       "      <td>C_ID_d639edf6cd</td>\n",
       "      <td>2</td>\n",
       "      <td>2</td>\n",
       "      <td>0</td>\n",
       "      <td>0.688056</td>\n",
       "      <td>43</td>\n",
       "      <td>(40, 50]</td>\n",
       "      <td>-29.167391</td>\n",
       "      <td>-0.678311</td>\n",
       "      <td>...</td>\n",
       "      <td>(-30.387, -22.109]</td>\n",
       "      <td>1.0</td>\n",
       "      <td>(0, 10]</td>\n",
       "      <td>-0.700326</td>\n",
       "      <td>-0.700326</td>\n",
       "      <td>NaN</td>\n",
       "      <td>-0.700326</td>\n",
       "      <td>-0.700326</td>\n",
       "      <td>(-0.739, -0.578]</td>\n",
       "      <td>(-0.701, -0.684]</td>\n",
       "    </tr>\n",
       "    <tr>\n",
       "      <th>3</th>\n",
       "      <td>2017-09-01</td>\n",
       "      <td>C_ID_186d6a6901</td>\n",
       "      <td>4</td>\n",
       "      <td>3</td>\n",
       "      <td>0</td>\n",
       "      <td>0.142495</td>\n",
       "      <td>77</td>\n",
       "      <td>(75, 100]</td>\n",
       "      <td>-49.491364</td>\n",
       "      <td>-0.642745</td>\n",
       "      <td>...</td>\n",
       "      <td>(-55.864, -41.057]</td>\n",
       "      <td>7.0</td>\n",
       "      <td>(0, 10]</td>\n",
       "      <td>-4.654372</td>\n",
       "      <td>-0.664910</td>\n",
       "      <td>0.065882</td>\n",
       "      <td>-0.734135</td>\n",
       "      <td>-0.566740</td>\n",
       "      <td>(-6.139, -4.574]</td>\n",
       "      <td>(-0.665, -0.642]</td>\n",
       "    </tr>\n",
       "    <tr>\n",
       "      <th>4</th>\n",
       "      <td>2017-11-01</td>\n",
       "      <td>C_ID_cdbd2c0db2</td>\n",
       "      <td>1</td>\n",
       "      <td>3</td>\n",
       "      <td>0</td>\n",
       "      <td>-0.159749</td>\n",
       "      <td>133</td>\n",
       "      <td>(100, 150]</td>\n",
       "      <td>-48.687656</td>\n",
       "      <td>-0.366073</td>\n",
       "      <td>...</td>\n",
       "      <td>(-55.864, -41.057]</td>\n",
       "      <td>36.0</td>\n",
       "      <td>(30, 40]</td>\n",
       "      <td>-19.926237</td>\n",
       "      <td>-0.553507</td>\n",
       "      <td>0.223821</td>\n",
       "      <td>-0.739395</td>\n",
       "      <td>0.450886</td>\n",
       "      <td>(-70.813, -8.882]</td>\n",
       "      <td>(-0.565, -0.487]</td>\n",
       "    </tr>\n",
       "  </tbody>\n",
       "</table>\n",
       "<p>5 rows × 23 columns</p>\n",
       "</div>"
      ],
      "text/plain": [
       "  first_active_month          card_id  feature_1  feature_2  feature_3  \\\n",
       "0         2017-06-01  C_ID_92a2005557          5          2          1   \n",
       "1         2017-01-01  C_ID_3d0044924f          4          1          0   \n",
       "2         2016-08-01  C_ID_d639edf6cd          2          2          0   \n",
       "3         2017-09-01  C_ID_186d6a6901          4          3          0   \n",
       "4         2017-11-01  C_ID_cdbd2c0db2          1          3          0   \n",
       "\n",
       "     target  num_hist_transaction binned_num_hist_transactions  \\\n",
       "0 -0.820283                   260                   (200, 500]   \n",
       "1  0.392913                   350                   (200, 500]   \n",
       "2  0.688056                    43                     (40, 50]   \n",
       "3  0.142495                    77                    (75, 100]   \n",
       "4 -0.159749                   133                   (100, 150]   \n",
       "\n",
       "   sum_hist_trans  mean_hist_trans           ...             \\\n",
       "0     -165.968739        -0.638341           ...              \n",
       "1     -210.006336        -0.600018           ...              \n",
       "2      -29.167391        -0.678311           ...              \n",
       "3      -49.491364        -0.642745           ...              \n",
       "4      -48.687656        -0.366073           ...              \n",
       "\n",
       "   binned_sum_hist_trans  num_merch_transactions  \\\n",
       "0  (-2088.013, -124.526]                    23.0   \n",
       "1  (-2088.013, -124.526]                     6.0   \n",
       "2     (-30.387, -22.109]                     1.0   \n",
       "3     (-55.864, -41.057]                     7.0   \n",
       "4     (-55.864, -41.057]                    36.0   \n",
       "\n",
       "   binned_num_merch_transactions sum_merch_trans  mean_merch_trans  \\\n",
       "0                       (20, 30]      -13.244202         -0.575835   \n",
       "1                        (0, 10]       -4.355735         -0.725956   \n",
       "2                        (0, 10]       -0.700326         -0.700326   \n",
       "3                        (0, 10]       -4.654372         -0.664910   \n",
       "4                       (30, 40]      -19.926237         -0.553507   \n",
       "\n",
       "  std_merch_trans  min_merch_trans  max_merch_trans  binned_sum_merch_trans  \\\n",
       "0        0.135812        -0.724368        -0.296112       (-70.813, -8.882]   \n",
       "1        0.014326        -0.739410        -0.701858        (-4.574, -3.483]   \n",
       "2             NaN        -0.700326        -0.700326        (-0.739, -0.578]   \n",
       "3        0.065882        -0.734135        -0.566740        (-6.139, -4.574]   \n",
       "4        0.223821        -0.739395         0.450886       (-70.813, -8.882]   \n",
       "\n",
       "   binned_mean_merch_trans  \n",
       "0          (-0.61, -0.565]  \n",
       "1         (-0.747, -0.717]  \n",
       "2         (-0.701, -0.684]  \n",
       "3         (-0.665, -0.642]  \n",
       "4         (-0.565, -0.487]  \n",
       "\n",
       "[5 rows x 23 columns]"
      ]
     },
     "execution_count": 24,
     "metadata": {},
     "output_type": "execute_result"
    }
   ],
   "source": [
    "train_df.head(5)"
   ]
  },
  {
   "cell_type": "code",
   "execution_count": 25,
   "metadata": {},
   "outputs": [],
   "source": [
    "train_df['year'] = train_df['first_active_month'].dt.year\n",
    "test_df[\"year\"] = test_df[\"first_active_month\"].dt.year\n",
    "train_df[\"month\"] = train_df[\"first_active_month\"].dt.month\n",
    "test_df[\"month\"] = test_df[\"first_active_month\"].dt.month"
   ]
  },
  {
   "cell_type": "code",
   "execution_count": 26,
   "metadata": {},
   "outputs": [],
   "source": [
    "cols_to_use = [\n",
    "               \"feature_1\", \"feature_2\", \"feature_3\", \"year\", \"month\", \n",
    "               \"num_hist_transaction\", \"sum_hist_trans\", \"mean_hist_trans\", \"std_hist_trans\", \n",
    "               \"min_hist_trans\", \"max_hist_trans\",\n",
    "               \"num_merch_transactions\", \"sum_merch_trans\", \"mean_merch_trans\", \"std_merch_trans\",\n",
    "               \"min_merch_trans\", \"max_merch_trans\"\n",
    "]"
   ]
  },
  {
   "cell_type": "code",
   "execution_count": 27,
   "metadata": {},
   "outputs": [
    {
     "data": {
      "text/html": [
       "<div>\n",
       "<style scoped>\n",
       "    .dataframe tbody tr th:only-of-type {\n",
       "        vertical-align: middle;\n",
       "    }\n",
       "\n",
       "    .dataframe tbody tr th {\n",
       "        vertical-align: top;\n",
       "    }\n",
       "\n",
       "    .dataframe thead th {\n",
       "        text-align: right;\n",
       "    }\n",
       "</style>\n",
       "<table border=\"1\" class=\"dataframe\">\n",
       "  <thead>\n",
       "    <tr style=\"text-align: right;\">\n",
       "      <th></th>\n",
       "      <th>feature_1</th>\n",
       "      <th>feature_2</th>\n",
       "      <th>feature_3</th>\n",
       "      <th>year</th>\n",
       "      <th>month</th>\n",
       "      <th>num_hist_transaction</th>\n",
       "      <th>sum_hist_trans</th>\n",
       "      <th>mean_hist_trans</th>\n",
       "      <th>std_hist_trans</th>\n",
       "      <th>min_hist_trans</th>\n",
       "      <th>max_hist_trans</th>\n",
       "      <th>num_merch_transactions</th>\n",
       "      <th>sum_merch_trans</th>\n",
       "      <th>mean_merch_trans</th>\n",
       "      <th>std_merch_trans</th>\n",
       "      <th>min_merch_trans</th>\n",
       "      <th>max_merch_trans</th>\n",
       "    </tr>\n",
       "  </thead>\n",
       "  <tbody>\n",
       "    <tr>\n",
       "      <th>0</th>\n",
       "      <td>3</td>\n",
       "      <td>3</td>\n",
       "      <td>1</td>\n",
       "      <td>2017.0</td>\n",
       "      <td>4.0</td>\n",
       "      <td>68</td>\n",
       "      <td>-40.733733</td>\n",
       "      <td>-0.599025</td>\n",
       "      <td>0.192268</td>\n",
       "      <td>-0.743902</td>\n",
       "      <td>0.235676</td>\n",
       "      <td>3.0</td>\n",
       "      <td>-1.777156</td>\n",
       "      <td>-0.592385</td>\n",
       "      <td>0.182843</td>\n",
       "      <td>-0.722114</td>\n",
       "      <td>-0.383266</td>\n",
       "    </tr>\n",
       "    <tr>\n",
       "      <th>1</th>\n",
       "      <td>2</td>\n",
       "      <td>3</td>\n",
       "      <td>0</td>\n",
       "      <td>2017.0</td>\n",
       "      <td>1.0</td>\n",
       "      <td>78</td>\n",
       "      <td>-49.136513</td>\n",
       "      <td>-0.629955</td>\n",
       "      <td>0.154999</td>\n",
       "      <td>-0.731881</td>\n",
       "      <td>0.318817</td>\n",
       "      <td>9.0</td>\n",
       "      <td>-5.944698</td>\n",
       "      <td>-0.660522</td>\n",
       "      <td>0.071147</td>\n",
       "      <td>-0.740897</td>\n",
       "      <td>-0.506484</td>\n",
       "    </tr>\n",
       "    <tr>\n",
       "      <th>2</th>\n",
       "      <td>5</td>\n",
       "      <td>1</td>\n",
       "      <td>1</td>\n",
       "      <td>2017.0</td>\n",
       "      <td>8.0</td>\n",
       "      <td>13</td>\n",
       "      <td>4.528840</td>\n",
       "      <td>0.348372</td>\n",
       "      <td>0.906547</td>\n",
       "      <td>-0.536537</td>\n",
       "      <td>2.525866</td>\n",
       "      <td>2.0</td>\n",
       "      <td>0.180138</td>\n",
       "      <td>0.090069</td>\n",
       "      <td>1.151788</td>\n",
       "      <td>-0.724368</td>\n",
       "      <td>0.904506</td>\n",
       "    </tr>\n",
       "    <tr>\n",
       "      <th>3</th>\n",
       "      <td>2</td>\n",
       "      <td>1</td>\n",
       "      <td>0</td>\n",
       "      <td>2017.0</td>\n",
       "      <td>12.0</td>\n",
       "      <td>26</td>\n",
       "      <td>-13.690715</td>\n",
       "      <td>-0.526566</td>\n",
       "      <td>0.219162</td>\n",
       "      <td>-0.731881</td>\n",
       "      <td>0.087965</td>\n",
       "      <td>10.0</td>\n",
       "      <td>-5.743674</td>\n",
       "      <td>-0.574367</td>\n",
       "      <td>0.073166</td>\n",
       "      <td>-0.671775</td>\n",
       "      <td>-0.447880</td>\n",
       "    </tr>\n",
       "    <tr>\n",
       "      <th>4</th>\n",
       "      <td>5</td>\n",
       "      <td>1</td>\n",
       "      <td>1</td>\n",
       "      <td>2015.0</td>\n",
       "      <td>12.0</td>\n",
       "      <td>110</td>\n",
       "      <td>25.139384</td>\n",
       "      <td>0.228540</td>\n",
       "      <td>2.777764</td>\n",
       "      <td>-0.746758</td>\n",
       "      <td>15.782255</td>\n",
       "      <td>6.0</td>\n",
       "      <td>12.064997</td>\n",
       "      <td>2.010833</td>\n",
       "      <td>6.028671</td>\n",
       "      <td>-0.704082</td>\n",
       "      <td>14.279604</td>\n",
       "    </tr>\n",
       "  </tbody>\n",
       "</table>\n",
       "</div>"
      ],
      "text/plain": [
       "   feature_1  feature_2  feature_3    year  month  num_hist_transaction  \\\n",
       "0          3          3          1  2017.0    4.0                    68   \n",
       "1          2          3          0  2017.0    1.0                    78   \n",
       "2          5          1          1  2017.0    8.0                    13   \n",
       "3          2          1          0  2017.0   12.0                    26   \n",
       "4          5          1          1  2015.0   12.0                   110   \n",
       "\n",
       "   sum_hist_trans  mean_hist_trans  std_hist_trans  min_hist_trans  \\\n",
       "0      -40.733733        -0.599025        0.192268       -0.743902   \n",
       "1      -49.136513        -0.629955        0.154999       -0.731881   \n",
       "2        4.528840         0.348372        0.906547       -0.536537   \n",
       "3      -13.690715        -0.526566        0.219162       -0.731881   \n",
       "4       25.139384         0.228540        2.777764       -0.746758   \n",
       "\n",
       "   max_hist_trans  num_merch_transactions  sum_merch_trans  mean_merch_trans  \\\n",
       "0        0.235676                     3.0        -1.777156         -0.592385   \n",
       "1        0.318817                     9.0        -5.944698         -0.660522   \n",
       "2        2.525866                     2.0         0.180138          0.090069   \n",
       "3        0.087965                    10.0        -5.743674         -0.574367   \n",
       "4       15.782255                     6.0        12.064997          2.010833   \n",
       "\n",
       "   std_merch_trans  min_merch_trans  max_merch_trans  \n",
       "0         0.182843        -0.722114        -0.383266  \n",
       "1         0.071147        -0.740897        -0.506484  \n",
       "2         1.151788        -0.724368         0.904506  \n",
       "3         0.073166        -0.671775        -0.447880  \n",
       "4         6.028671        -0.704082        14.279604  "
      ]
     },
     "metadata": {},
     "output_type": "display_data"
    },
    {
     "name": "stdout",
     "output_type": "stream",
     "text": [
      "<class 'pandas.core.frame.DataFrame'>\n",
      "Int64Index: 123623 entries, 0 to 123622\n",
      "Data columns (total 17 columns):\n",
      "feature_1                 123623 non-null int64\n",
      "feature_2                 123623 non-null int64\n",
      "feature_3                 123623 non-null int64\n",
      "year                      123622 non-null float64\n",
      "month                     123622 non-null float64\n",
      "num_hist_transaction      123623 non-null int64\n",
      "sum_hist_trans            123623 non-null float64\n",
      "mean_hist_trans           123623 non-null float64\n",
      "std_hist_trans            123623 non-null float64\n",
      "min_hist_trans            123623 non-null float64\n",
      "max_hist_trans            123623 non-null float64\n",
      "num_merch_transactions    110015 non-null float64\n",
      "sum_merch_trans           110015 non-null float64\n",
      "mean_merch_trans          110015 non-null float64\n",
      "std_merch_trans           93792 non-null float64\n",
      "min_merch_trans           110015 non-null float64\n",
      "max_merch_trans           110015 non-null float64\n",
      "dtypes: float64(13), int64(4)\n",
      "memory usage: 17.0 MB\n"
     ]
    },
    {
     "data": {
      "text/plain": [
       "None"
      ]
     },
     "metadata": {},
     "output_type": "display_data"
    },
    {
     "name": "stdout",
     "output_type": "stream",
     "text": [
      "shape: (123623, 17)\n"
     ]
    }
   ],
   "source": [
    "data_show(test_df[cols_to_use])"
   ]
  },
  {
   "cell_type": "code",
   "execution_count": 40,
   "metadata": {},
   "outputs": [],
   "source": [
    "def run_xgb(X_train, y_train, X_val, y_val, X_test):\n",
    "    \n",
    "    params = {\n",
    "            \"objective\" : \"regression\",\n",
    "            \"metric\" : \"rmse\",\n",
    "            \"num_leaves\" : 30,\n",
    "            \"min_child_weight\" : 50,\n",
    "            \"learning_rate\" : 0.05,\n",
    "#             \"bagging_fraction\" : 0.7,\n",
    "#             \"feature_fraction\" : 0.7,\n",
    "#             \"bagging_frequency\" : 5,\n",
    "#             \"bagging_seed\" : 2018,\n",
    "#             \"verbosity\" : -1\n",
    "        }\n",
    "    \n",
    "    dtrain = xgb.DMatrix(X_train, label=y_train)\n",
    "    dval = xgb.DMatrix(X_val, label=y_val)\n",
    "    \n",
    "#     xgb_alg = xgb.XGBRegressor(objective='regression', learning_rate=0.05, min_child_weight=50)\n",
    "    \n",
    "    eval_result = {}\n",
    "#     model = xgb_alg.fit()\n",
    "    model = xgb.train(params, dtrain, num_boost_round=1000, evals=([dval]), early_stopping_rounds=100, \n",
    "                      verbose_eval=100, \n",
    "                     evals_result=eval_result)\n",
    "    pred = model.predict(X_test, num_iteration=model.best_iteration)\n",
    "    return pred, model, evals_result\n",
    "    "
   ]
  },
  {
   "cell_type": "code",
   "execution_count": 77,
   "metadata": {},
   "outputs": [],
   "source": [
    "def run_xgb(X_train, y_train, X_val, y_val):\n",
    "    xgb_alg = xgb.XGBRegressor(learning_rate=0.05, min_child_weight=50)\n",
    "    model = xgb_alg.fit(X_train, y_train, eval_set=[(X_val, y_val)], eval_metric='rmse',\n",
    "                       early_stopping_rounds=100, verbose=50)\n",
    "    \n",
    "    return model"
   ]
  },
  {
   "cell_type": "code",
   "execution_count": 31,
   "metadata": {},
   "outputs": [],
   "source": [
    "X_train, X_val, y_train, y_val = train_test_split(train_df[cols_to_use],train_df['target'], test_size=0.1,\n",
    "                                                 random_state=42)"
   ]
  },
  {
   "cell_type": "code",
   "execution_count": 32,
   "metadata": {},
   "outputs": [],
   "source": [
    "X_test = test_df[cols_to_use]"
   ]
  },
  {
   "cell_type": "code",
   "execution_count": 78,
   "metadata": {},
   "outputs": [
    {
     "name": "stdout",
     "output_type": "stream",
     "text": [
      "[0]\tvalidation_0-rmse:3.85991\n",
      "Will train until validation_0-rmse hasn't improved in 100 rounds.\n",
      "[50]\tvalidation_0-rmse:3.73783\n",
      "[99]\tvalidation_0-rmse:3.73219\n"
     ]
    }
   ],
   "source": [
    "model = run_xgb(X_train, y_train, X_val, y_val)"
   ]
  },
  {
   "cell_type": "code",
   "execution_count": 61,
   "metadata": {},
   "outputs": [],
   "source": [
    "pred = model.predict(X_test)"
   ]
  },
  {
   "cell_type": "code",
   "execution_count": 62,
   "metadata": {},
   "outputs": [
    {
     "data": {
      "text/plain": [
       "array([0.01449275, 0.02753623, 0.00434783, 0.11014493, 0.09130435,\n",
       "       0.08985507, 0.06376812, 0.04347826, 0.01594203, 0.06811594,\n",
       "       0.06521739, 0.03333334, 0.05652174, 0.06811594, 0.06086956,\n",
       "       0.03043478, 0.15652174], dtype=float32)"
      ]
     },
     "execution_count": 62,
     "metadata": {},
     "output_type": "execute_result"
    }
   ],
   "source": [
    "model.feature_importances_"
   ]
  },
  {
   "cell_type": "code",
   "execution_count": 69,
   "metadata": {},
   "outputs": [
    {
     "data": {
      "text/plain": [
       "<matplotlib.figure.Figure at 0x1291d6eb8>"
      ]
     },
     "metadata": {},
     "output_type": "display_data"
    },
    {
     "data": {
      "image/png": "[encoded data removed]",
      "text/plain": [
       "<matplotlib.figure.Figure at 0x1291d6e80>"
      ]
     },
     "metadata": {},
     "output_type": "display_data"
    }
   ],
   "source": [
    "plt.figure(figsize=(12, 6))\n",
    "plot_importance(model, xlabel='rmse')\n",
    "plt.show()"
   ]
  },
  {
   "cell_type": "code",
   "execution_count": 70,
   "metadata": {},
   "outputs": [],
   "source": [
    "sub_df = pd.DataFrame({\"card_id\":test_df[\"card_id\"].values})\n",
    "sub_df[\"target\"] = pred\n",
    "sub_df.to_csv(\"baseline_xgb.csv\", index=False)"
   ]
  },
  {
   "cell_type": "code",
   "execution_count": 72,
   "metadata": {},
   "outputs": [],
   "source": [
    "train_df.to_csv('new_train.csv', index=False)\n",
    "test_df.to_csv('new_test.csv', index=False)"
   ]
  },
  {
   "cell_type": "code",
   "execution_count": 74,
   "metadata": {},
   "outputs": [],
   "source": [
    "with open('use_to_col.txt', 'w') as fout:\n",
    "    for i in cols_to_use:\n",
    "        fout.write(i)\n",
    "        fout.write(',')"
   ]
  },
  {
   "cell_type": "code",
   "execution_count": null,
   "metadata": {},
   "outputs": [],
   "source": []
  }
 ],
 "metadata": {
  "kernelspec": {
   "display_name": "Python 3",
   "language": "python",
   "name": "python3"
  },
  "language_info": {
   "codemirror_mode": {
    "name": "ipython",
    "version": 3
   },
   "file_extension": ".py",
   "mimetype": "text/x-python",
   "name": "python",
   "nbconvert_exporter": "python",
   "pygments_lexer": "ipython3",
   "version": "3.6.4"
  }
 },
 "nbformat": 4,
 "nbformat_minor": 2
}
