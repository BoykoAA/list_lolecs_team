{
 "cells": [
  {
   "cell_type": "code",
   "execution_count": 2,
   "metadata": {},
   "outputs": [],
   "source": [
    "import numpy as np # NUMPY\n",
    "import pandas as p # PANDAS\n",
    "\n",
    "# DATA VIZUALIZATION LIBRARIES\n",
    "from matplotlib import pyplot as plt\n",
    "import seaborn as sns\n",
    "\n",
    "# METRICS TO MEASURE RMSE\n",
    "from math import sqrt\n",
    "from sklearn import metrics"
   ]
  },
  {
   "cell_type": "code",
   "execution_count": 4,
   "metadata": {},
   "outputs": [],
   "source": [
    "df_base0 = p.read_csv('data/blend/elo-blending/3.695.csv',names=[\"card_id\",\"target0\"], skiprows=[0],header=None)\n",
    "df_base1 = p.read_csv('data/blend/elo-blending/3.696.csv',names=[\"card_id\",\"target1\"], skiprows=[0],header=None)\n",
    "df_base2 = p.read_csv('data/blend/elo-blending/3.6999.csv',names=[\"card_id\",\"targe2\"], skiprows=[0],header=None)\n",
    "df_base3 = p.read_csv('data/blend/elo-blending/3.69991.csv',names=[\"card_id\",\"target3\"], skiprows=[0],header=None)\n",
    "df_base4 = p.read_csv('data/blend/elo-blending/3.699992.csv',names=[\"card_id\",\"target4\"], skiprows=[0],header=None)\n",
    "df_base5 = p.read_csv('data/blend/elo-blending/3.70.csv',names=[\"card_id\",\"target5\"], skiprows=[0],header=None)\n",
    "df_base6 = p.read_csv('data/blend/elo-blending/3.701.csv',names=[\"card_id\",\"target6\"], skiprows=[0],header=None)\n",
    "df_base7 = p.read_csv('data/blend/elo-blending/3.702.csv',names=[\"card_id\",\"target7\"], skiprows=[0],header=None)\n",
    "df_base8 = p.read_csv('data/blend/elo-blending/3.703.csv',names=[\"card_id\",\"target8\"], skiprows=[0],header=None)\n",
    "df_base9 = p.read_csv('data/blend/elo-blending/3.704.csv',names=[\"card_id\",\"target9\"], skiprows=[0],header=None)\n",
    "df_base10 = p.read_csv('data/blend/elo-blending/Blending.csv',names=[\"card_id\",\"target10\"], skiprows=[0],header=None)\n",
    "df_base11 = p.read_csv('data/blend/elo-blending/BlendingRLS.csv',names=[\"card_id\",\"target11\"], skiprows=[0],header=None)\n",
    "df_base12 = p.read_csv('data/blend/elo-blending/combining_submission.csv',names=[\"card_id\",\"target12\"], skiprows=[0],header=None)\n",
    "df_base13 = p.read_csv('data/blend/elo-blending/3.692.csv',names=[\"card_id\",\"target0\"], skiprows=[0],header=None)\n",
    "df_base0 = p.read_csv('data/blend/elo-blending/3.693.csv',names=[\"card_id\",\"target0\"], skiprows=[0],header=None)"
   ]
  },
  {
   "cell_type": "code",
   "execution_count": 5,
   "metadata": {},
   "outputs": [],
   "source": [
    "df_base = p.merge(df_base12,df_base0,how='inner',on='card_id')\n",
    "df_base = p.merge(df_base,df_base1,how='inner',on='card_id')\n",
    "df_base = p.merge(df_base,df_base2,how='inner',on='card_id')\n",
    "df_base = p.merge(df_base,df_base3,how='inner',on='card_id')\n",
    "df_base = p.merge(df_base,df_base4,how='inner',on='card_id')\n",
    "df_base = p.merge(df_base,df_base5,how='inner',on='card_id')\n",
    "df_base = p.merge(df_base,df_base6,how='inner',on='card_id')\n",
    "df_base = p.merge(df_base,df_base7,how='inner',on='card_id')\n",
    "df_base = p.merge(df_base,df_base8,how='inner',on='card_id')\n",
    "df_base = p.merge(df_base,df_base9,how='inner',on='card_id')\n",
    "df_base = p.merge(df_base,df_base10,how='inner',on='card_id')\n",
    "df_base = p.merge(df_base,df_base11,how='inner',on='card_id')"
   ]
  },
  {
   "cell_type": "code",
   "execution_count": 6,
   "metadata": {},
   "outputs": [],
   "source": [
    "# ALTERNATIVE WAY - RMSE MATRIX (RMSE to measure how similar are 2 solutions)\n",
    "M = np.zeros([df_base.iloc[:,1:].shape[1],df_base.iloc[:,1:].shape[1]])\n",
    "for i in np.arange(M.shape[1]):\n",
    "    for j in np.arange(M.shape[1]):\n",
    "        M[i,j] = sqrt(metrics.mean_squared_error(df_base.iloc[:,i+1], df_base.iloc[:,j+1]))"
   ]
  },
  {
   "cell_type": "code",
   "execution_count": 7,
   "metadata": {},
   "outputs": [],
   "source": [
    "#SOLUTION = MEAN OF COLUMNS\n",
    "df_base['target'] = df_base.iloc[:,1:].mean(axis=1)\n",
    "df_base[['card_id','target']].to_csv(\"Bestoutput.csv\",index=False)"
   ]
  },
  {
   "cell_type": "code",
   "execution_count": 9,
   "metadata": {},
   "outputs": [
    {
     "data": {
      "text/plain": [
       "<matplotlib.axes._subplots.AxesSubplot at 0x11eb8bbe0>"
      ]
     },
     "execution_count": 9,
     "metadata": {},
     "output_type": "execute_result"
    },
    {
     "data": {
      "image/png": "[encoded data removed]",
      "text/plain": [
       "<matplotlib.figure.Figure at 0x11e72acc0>"
      ]
     },
     "metadata": {},
     "output_type": "display_data"
    }
   ],
   "source": [
    "df_base12 = p.read_csv('data/blend/elo-blending/combining_submission.csv',names=[\"card_id\",\"target12\"], skiprows=[0],header=None)\n",
    "# df_base1 = p.read_csv('data/blend/elo0blending/3.696.csv',names=[\"card_id\",\"target1\"], skiprows=[0],header=None)\n",
    "df_base0 = p.read_csv('data/blend/elo-blending/3.695.csv',names=[\"card_id\",\"target0\"], skiprows=[0],header=None)\n",
    "df_base1 = p.read_csv('data/blend/elo-blending/3.696.csv',names=[\"card_id\",\"target1\"], skiprows=[0],header=None)\n",
    "\n",
    "df_base = p.merge(df_base12,df_base0,how='inner',on='card_id')\n",
    "df_base = p.merge(df_base,df_base1,how='inner',on='card_id')\n",
    "\n",
    "#CORRELATION MATRIX (Pearson Correlation to measure how similar are 2 solutions)\n",
    "plt.figure(figsize=(16,12))\n",
    "sns.heatmap(df_base.iloc[:,1:].corr(),annot=True,fmt=\".2f\")"
   ]
  },
  {
   "cell_type": "code",
   "execution_count": 10,
   "metadata": {},
   "outputs": [],
   "source": [
    "# ALTERNATIVE WAY - RMSE MATRIX (RMSE to measure how similar are 2 solutions)\n",
    "M = np.zeros([df_base.iloc[:,1:].shape[1],df_base.iloc[:,1:].shape[1]])\n",
    "for i in np.arange(M.shape[1]):\n",
    "    for j in np.arange(M.shape[1]):\n",
    "        M[i,j] = sqrt(metrics.mean_squared_error(df_base.iloc[:,i+1], df_base.iloc[:,j+1]))"
   ]
  },
  {
   "cell_type": "code",
   "execution_count": 11,
   "metadata": {},
   "outputs": [],
   "source": [
    "#SOLUTION = MEAN OF COLUMNS\n",
    "df_base['target'] = df_base.iloc[:,1:].mean(axis=1)"
   ]
  },
  {
   "cell_type": "code",
   "execution_count": 12,
   "metadata": {},
   "outputs": [],
   "source": [
    "df_base[['card_id','target']].to_csv(\"Bestoutput1.csv\",index=False)"
   ]
  },
  {
   "cell_type": "code",
   "execution_count": null,
   "metadata": {},
   "outputs": [],
   "source": []
  },
  {
   "cell_type": "code",
   "execution_count": null,
   "metadata": {},
   "outputs": [],
   "source": []
  },
  {
   "cell_type": "code",
   "execution_count": null,
   "metadata": {},
   "outputs": [],
   "source": []
  }
 ],
 "metadata": {
  "kernelspec": {
   "display_name": "Python 3",
   "language": "python",
   "name": "python3"
  },
  "language_info": {
   "codemirror_mode": {
    "name": "ipython",
    "version": 3
   },
   "file_extension": ".py",
   "mimetype": "text/x-python",
   "name": "python",
   "nbconvert_exporter": "python",
   "pygments_lexer": "ipython3",
   "version": "3.6.4"
  }
 },
 "nbformat": 4,
 "nbformat_minor": 2
}
